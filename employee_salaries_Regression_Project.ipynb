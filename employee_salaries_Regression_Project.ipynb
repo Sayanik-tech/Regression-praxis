{
 "cells": [
  {
   "cell_type": "markdown",
   "metadata": {
    "id": "xr2fDvz_oNWV"
   },
   "source": [
    "# <h1><center>**`Employee Salaries Project`**</center></h1>"
   ]
  },
  {
   "cell_type": "markdown",
   "metadata": {
    "id": "XdCJRKAQoIzt"
   },
   "source": [
    "### **`Problem Statement`**"
   ]
  },
  {
   "cell_type": "markdown",
   "metadata": {
    "id": "EWIMW97A3-Qh"
   },
   "source": [
    "To predict the salary of employee based on the information provided in the dataset. It's a dataset with 1 million records"
   ]
  },
  {
   "cell_type": "markdown",
   "metadata": {
    "id": "aOel7bcF3mVz"
   },
   "source": [
    "- ### `How will the company profit from this solution?`\n",
    "1. Companies can't keep track of their finance while paying salaries to employees.\n",
    "2. Companies can understand what factors affects their finance. for example: location , employee experience, education qualification, etc.\n",
    "3. Companies can get data about their competition companies finance and improve their own on basis of that data.\n",
    "4. They can get an optimized range of salaries that should be given to their employees based on factors such as job type, employee experience, Education qualification, etc. that will reduce spending of extra  money.\n",
    "\n",
    "- ### `How will the employee profit from this solution?`\n",
    "\n",
    "1. Employees find it difficult to know what factors affect their salaries.\n",
    "2. Employees can find companies matching their salary requirement based on job title, experience, etc.\n",
    "3. They can understand what factor is affecting their salaries so they can improve working on that factor. \n",
    "4. They can get data about salaries paid by other companies for same job title, experience, education qualification, etc so they can to get a raise in their salaries.\n",
    "\n"
   ]
  },
  {
   "cell_type": "markdown",
   "metadata": {
    "id": "T0uBUqHM32IA"
   },
   "source": [
    "Dataset link: https://www.kaggle.com/datasets/pavanelisetty/salarypredictions\n",
    "### `Dataset Desciption`\n",
    "\n",
    "The dataset folder contains the following files:\n",
    "\n",
    "train_dataset.csv = 1000000 x 8\n",
    "\n",
    "train_salaries.csv = 1000000 x 2\n",
    "\n",
    "test_dataset.csv =  1000000 x 8\n",
    "\n",
    "Columns Provided in the Dataset\n",
    "\n",
    "1. jobId\n",
    "2. companyId\n",
    "3. jobType\n",
    "4. degree\n",
    "5. major\n",
    "6. industry\n",
    "7. yearsExperience\n",
    "8. milesFromMetropolis\n",
    "9. salary"
   ]
  },
  {
   "cell_type": "code",
   "execution_count": 1,
   "metadata": {
    "_cell_guid": "b1076dfc-b9ad-4769-8c92-a6c4dae69d19",
    "_uuid": "8f2839f25d086af736a60e9eeb907d3b93b6e0e5",
    "execution": {
     "iopub.execute_input": "2021-07-29T04:31:12.988406Z",
     "iopub.status.busy": "2021-07-29T04:31:12.987980Z",
     "iopub.status.idle": "2021-07-29T04:31:12.999223Z",
     "shell.execute_reply": "2021-07-29T04:31:12.997708Z",
     "shell.execute_reply.started": "2021-07-29T04:31:12.988367Z"
    },
    "id": "CsHP6c_HoIzw"
   },
   "outputs": [],
   "source": [
    "#importing necessary libraries\n",
    "import pandas as pd\n",
    "import matplotlib.pyplot as plt\n",
    "import seaborn as sns\n",
    "sns.set_theme()\n",
    "import numpy as np\n",
    "from scipy.stats import norm,skew\n",
    "from sklearn.preprocessing import StandardScaler\n",
    "import statsmodels.api as sm\n",
    "from scipy import stats\n",
    "from scipy.stats import chi2_contingency\n",
    "from scipy.stats import chi2\n",
    "import statsmodels.api as sm\n",
    "from sklearn.metrics import r2_score,mean_squared_error\n",
    "from sklearn.linear_model import LinearRegression\n",
    "from sklearn.neighbors import KNeighborsRegressor\n",
    "from sklearn.neighbors import KNeighborsRegressor\n",
    "from sklearn.exceptions import FitFailedWarning\n",
    "import warnings\n",
    "warnings.simplefilter('always', FitFailedWarning)\n",
    "from sklearn.tree import DecisionTreeRegressor\n",
    "from sklearn.ensemble import RandomForestRegressor\n",
    "import warnings\n",
    "warnings.filterwarnings('ignore')\n",
    "%matplotlib inline\n",
    "from tqdm import tqdm"
   ]
  },
  {
   "cell_type": "code",
   "execution_count": 2,
   "metadata": {
    "execution": {
     "iopub.execute_input": "2021-07-29T04:31:14.813558Z",
     "iopub.status.busy": "2021-07-29T04:31:14.813095Z",
     "iopub.status.idle": "2021-07-29T04:31:19.587248Z",
     "shell.execute_reply": "2021-07-29T04:31:19.586051Z",
     "shell.execute_reply.started": "2021-07-29T04:31:14.813518Z"
    },
    "id": "ZlT9WjFJoIzy",
    "scrolled": true
   },
   "outputs": [],
   "source": [
    "# Load the train_dataset, train_salaries, test_dataset\n",
    "train_data = pd.read_csv(\"E:/Praxis/Project_Folder/Regression Proj/Regression Project/train_dataset.csv\")\n",
    "train_data_salaries = pd.read_csv(\"E:/Praxis/Project_Folder/Regression Proj/Regression Project/train_salaries.csv\")\n",
    "test_data = pd.read_csv(\"E:/Praxis/Project_Folder/Regression Proj/Regression Project/test_dataset.csv\")"
   ]
  },
  {
   "cell_type": "code",
   "execution_count": 3,
   "metadata": {
    "colab": {
     "base_uri": "https://localhost:8080/",
     "height": 206
    },
    "id": "YZZmQydesxmc",
    "outputId": "f977ca2c-27e7-4d85-a35c-db5a3ac76463"
   },
   "outputs": [
    {
     "data": {
      "text/html": [
       "<div>\n",
       "<style scoped>\n",
       "    .dataframe tbody tr th:only-of-type {\n",
       "        vertical-align: middle;\n",
       "    }\n",
       "\n",
       "    .dataframe tbody tr th {\n",
       "        vertical-align: top;\n",
       "    }\n",
       "\n",
       "    .dataframe thead th {\n",
       "        text-align: right;\n",
       "    }\n",
       "</style>\n",
       "<table border=\"1\" class=\"dataframe\">\n",
       "  <thead>\n",
       "    <tr style=\"text-align: right;\">\n",
       "      <th></th>\n",
       "      <th>jobId</th>\n",
       "      <th>companyId</th>\n",
       "      <th>jobType</th>\n",
       "      <th>degree</th>\n",
       "      <th>major</th>\n",
       "      <th>industry</th>\n",
       "      <th>yearsExperience</th>\n",
       "      <th>milesFromMetropolis</th>\n",
       "    </tr>\n",
       "  </thead>\n",
       "  <tbody>\n",
       "    <tr>\n",
       "      <th>0</th>\n",
       "      <td>JOB1362684407687</td>\n",
       "      <td>COMP37</td>\n",
       "      <td>CFO</td>\n",
       "      <td>MASTERS</td>\n",
       "      <td>MATH</td>\n",
       "      <td>HEALTH</td>\n",
       "      <td>10</td>\n",
       "      <td>83</td>\n",
       "    </tr>\n",
       "    <tr>\n",
       "      <th>1</th>\n",
       "      <td>JOB1362684407688</td>\n",
       "      <td>COMP19</td>\n",
       "      <td>CEO</td>\n",
       "      <td>HIGH_SCHOOL</td>\n",
       "      <td>NONE</td>\n",
       "      <td>WEB</td>\n",
       "      <td>3</td>\n",
       "      <td>73</td>\n",
       "    </tr>\n",
       "    <tr>\n",
       "      <th>2</th>\n",
       "      <td>JOB1362684407689</td>\n",
       "      <td>COMP52</td>\n",
       "      <td>VICE_PRESIDENT</td>\n",
       "      <td>DOCTORAL</td>\n",
       "      <td>PHYSICS</td>\n",
       "      <td>HEALTH</td>\n",
       "      <td>10</td>\n",
       "      <td>38</td>\n",
       "    </tr>\n",
       "    <tr>\n",
       "      <th>3</th>\n",
       "      <td>JOB1362684407690</td>\n",
       "      <td>COMP38</td>\n",
       "      <td>MANAGER</td>\n",
       "      <td>DOCTORAL</td>\n",
       "      <td>CHEMISTRY</td>\n",
       "      <td>AUTO</td>\n",
       "      <td>8</td>\n",
       "      <td>17</td>\n",
       "    </tr>\n",
       "    <tr>\n",
       "      <th>4</th>\n",
       "      <td>JOB1362684407691</td>\n",
       "      <td>COMP7</td>\n",
       "      <td>VICE_PRESIDENT</td>\n",
       "      <td>BACHELORS</td>\n",
       "      <td>PHYSICS</td>\n",
       "      <td>FINANCE</td>\n",
       "      <td>8</td>\n",
       "      <td>16</td>\n",
       "    </tr>\n",
       "  </tbody>\n",
       "</table>\n",
       "</div>"
      ],
      "text/plain": [
       "              jobId companyId         jobType       degree      major   \n",
       "0  JOB1362684407687    COMP37             CFO      MASTERS       MATH  \\\n",
       "1  JOB1362684407688    COMP19             CEO  HIGH_SCHOOL       NONE   \n",
       "2  JOB1362684407689    COMP52  VICE_PRESIDENT     DOCTORAL    PHYSICS   \n",
       "3  JOB1362684407690    COMP38         MANAGER     DOCTORAL  CHEMISTRY   \n",
       "4  JOB1362684407691     COMP7  VICE_PRESIDENT    BACHELORS    PHYSICS   \n",
       "\n",
       "  industry  yearsExperience  milesFromMetropolis  \n",
       "0   HEALTH               10                   83  \n",
       "1      WEB                3                   73  \n",
       "2   HEALTH               10                   38  \n",
       "3     AUTO                8                   17  \n",
       "4  FINANCE                8                   16  "
      ]
     },
     "execution_count": 3,
     "metadata": {},
     "output_type": "execute_result"
    }
   ],
   "source": [
    "# print head of train data\n",
    "train_data.head()"
   ]
  },
  {
   "cell_type": "code",
   "execution_count": 4,
   "metadata": {
    "colab": {
     "base_uri": "https://localhost:8080/",
     "height": 206
    },
    "id": "k5wvgdYos2WO",
    "outputId": "af94c19d-30e3-495f-c846-ea65396a48ed"
   },
   "outputs": [
    {
     "data": {
      "text/html": [
       "<div>\n",
       "<style scoped>\n",
       "    .dataframe tbody tr th:only-of-type {\n",
       "        vertical-align: middle;\n",
       "    }\n",
       "\n",
       "    .dataframe tbody tr th {\n",
       "        vertical-align: top;\n",
       "    }\n",
       "\n",
       "    .dataframe thead th {\n",
       "        text-align: right;\n",
       "    }\n",
       "</style>\n",
       "<table border=\"1\" class=\"dataframe\">\n",
       "  <thead>\n",
       "    <tr style=\"text-align: right;\">\n",
       "      <th></th>\n",
       "      <th>jobId</th>\n",
       "      <th>salary</th>\n",
       "    </tr>\n",
       "  </thead>\n",
       "  <tbody>\n",
       "    <tr>\n",
       "      <th>0</th>\n",
       "      <td>JOB1362684407687</td>\n",
       "      <td>130</td>\n",
       "    </tr>\n",
       "    <tr>\n",
       "      <th>1</th>\n",
       "      <td>JOB1362684407688</td>\n",
       "      <td>101</td>\n",
       "    </tr>\n",
       "    <tr>\n",
       "      <th>2</th>\n",
       "      <td>JOB1362684407689</td>\n",
       "      <td>137</td>\n",
       "    </tr>\n",
       "    <tr>\n",
       "      <th>3</th>\n",
       "      <td>JOB1362684407690</td>\n",
       "      <td>142</td>\n",
       "    </tr>\n",
       "    <tr>\n",
       "      <th>4</th>\n",
       "      <td>JOB1362684407691</td>\n",
       "      <td>163</td>\n",
       "    </tr>\n",
       "  </tbody>\n",
       "</table>\n",
       "</div>"
      ],
      "text/plain": [
       "              jobId  salary\n",
       "0  JOB1362684407687     130\n",
       "1  JOB1362684407688     101\n",
       "2  JOB1362684407689     137\n",
       "3  JOB1362684407690     142\n",
       "4  JOB1362684407691     163"
      ]
     },
     "execution_count": 4,
     "metadata": {},
     "output_type": "execute_result"
    }
   ],
   "source": [
    "# print head of train data salaries\n",
    "train_data_salaries.head()"
   ]
  },
  {
   "cell_type": "code",
   "execution_count": 5,
   "metadata": {
    "colab": {
     "base_uri": "https://localhost:8080/",
     "height": 206
    },
    "id": "Xh4014VGs8SJ",
    "outputId": "f3aee15e-ad7f-4897-9ea7-51f89cdd584a"
   },
   "outputs": [
    {
     "data": {
      "text/html": [
       "<div>\n",
       "<style scoped>\n",
       "    .dataframe tbody tr th:only-of-type {\n",
       "        vertical-align: middle;\n",
       "    }\n",
       "\n",
       "    .dataframe tbody tr th {\n",
       "        vertical-align: top;\n",
       "    }\n",
       "\n",
       "    .dataframe thead th {\n",
       "        text-align: right;\n",
       "    }\n",
       "</style>\n",
       "<table border=\"1\" class=\"dataframe\">\n",
       "  <thead>\n",
       "    <tr style=\"text-align: right;\">\n",
       "      <th></th>\n",
       "      <th>jobId</th>\n",
       "      <th>companyId</th>\n",
       "      <th>jobType</th>\n",
       "      <th>degree</th>\n",
       "      <th>major</th>\n",
       "      <th>industry</th>\n",
       "      <th>yearsExperience</th>\n",
       "      <th>milesFromMetropolis</th>\n",
       "    </tr>\n",
       "  </thead>\n",
       "  <tbody>\n",
       "    <tr>\n",
       "      <th>0</th>\n",
       "      <td>JOB1362685407687</td>\n",
       "      <td>COMP33</td>\n",
       "      <td>MANAGER</td>\n",
       "      <td>HIGH_SCHOOL</td>\n",
       "      <td>NONE</td>\n",
       "      <td>HEALTH</td>\n",
       "      <td>22</td>\n",
       "      <td>73</td>\n",
       "    </tr>\n",
       "    <tr>\n",
       "      <th>1</th>\n",
       "      <td>JOB1362685407688</td>\n",
       "      <td>COMP13</td>\n",
       "      <td>JUNIOR</td>\n",
       "      <td>NONE</td>\n",
       "      <td>NONE</td>\n",
       "      <td>AUTO</td>\n",
       "      <td>20</td>\n",
       "      <td>47</td>\n",
       "    </tr>\n",
       "    <tr>\n",
       "      <th>2</th>\n",
       "      <td>JOB1362685407689</td>\n",
       "      <td>COMP10</td>\n",
       "      <td>CTO</td>\n",
       "      <td>MASTERS</td>\n",
       "      <td>BIOLOGY</td>\n",
       "      <td>HEALTH</td>\n",
       "      <td>17</td>\n",
       "      <td>9</td>\n",
       "    </tr>\n",
       "    <tr>\n",
       "      <th>3</th>\n",
       "      <td>JOB1362685407690</td>\n",
       "      <td>COMP21</td>\n",
       "      <td>MANAGER</td>\n",
       "      <td>HIGH_SCHOOL</td>\n",
       "      <td>NONE</td>\n",
       "      <td>OIL</td>\n",
       "      <td>14</td>\n",
       "      <td>96</td>\n",
       "    </tr>\n",
       "    <tr>\n",
       "      <th>4</th>\n",
       "      <td>JOB1362685407691</td>\n",
       "      <td>COMP36</td>\n",
       "      <td>JUNIOR</td>\n",
       "      <td>DOCTORAL</td>\n",
       "      <td>BIOLOGY</td>\n",
       "      <td>OIL</td>\n",
       "      <td>10</td>\n",
       "      <td>44</td>\n",
       "    </tr>\n",
       "  </tbody>\n",
       "</table>\n",
       "</div>"
      ],
      "text/plain": [
       "              jobId companyId  jobType       degree    major industry   \n",
       "0  JOB1362685407687    COMP33  MANAGER  HIGH_SCHOOL     NONE   HEALTH  \\\n",
       "1  JOB1362685407688    COMP13   JUNIOR         NONE     NONE     AUTO   \n",
       "2  JOB1362685407689    COMP10      CTO      MASTERS  BIOLOGY   HEALTH   \n",
       "3  JOB1362685407690    COMP21  MANAGER  HIGH_SCHOOL     NONE      OIL   \n",
       "4  JOB1362685407691    COMP36   JUNIOR     DOCTORAL  BIOLOGY      OIL   \n",
       "\n",
       "   yearsExperience  milesFromMetropolis  \n",
       "0               22                   73  \n",
       "1               20                   47  \n",
       "2               17                    9  \n",
       "3               14                   96  \n",
       "4               10                   44  "
      ]
     },
     "execution_count": 5,
     "metadata": {},
     "output_type": "execute_result"
    }
   ],
   "source": [
    "# print test head\n",
    "test_data.head()"
   ]
  },
  {
   "cell_type": "code",
   "execution_count": 6,
   "metadata": {
    "execution": {
     "iopub.execute_input": "2021-07-29T04:31:22.940199Z",
     "iopub.status.busy": "2021-07-29T04:31:22.939789Z",
     "iopub.status.idle": "2021-07-29T04:31:22.956003Z",
     "shell.execute_reply": "2021-07-29T04:31:22.954820Z",
     "shell.execute_reply.started": "2021-07-29T04:31:22.940161Z"
    },
    "id": "Mc_LVMRqoIzz"
   },
   "outputs": [],
   "source": [
    "# Adding salary data to train_dataset\n",
    "\n",
    "train_data = train_data.merge(train_data_salaries,on='jobId',how='inner')"
   ]
  },
  {
   "cell_type": "code",
   "execution_count": 7,
   "metadata": {},
   "outputs": [
    {
     "data": {
      "text/html": [
       "<div>\n",
       "<style scoped>\n",
       "    .dataframe tbody tr th:only-of-type {\n",
       "        vertical-align: middle;\n",
       "    }\n",
       "\n",
       "    .dataframe tbody tr th {\n",
       "        vertical-align: top;\n",
       "    }\n",
       "\n",
       "    .dataframe thead th {\n",
       "        text-align: right;\n",
       "    }\n",
       "</style>\n",
       "<table border=\"1\" class=\"dataframe\">\n",
       "  <thead>\n",
       "    <tr style=\"text-align: right;\">\n",
       "      <th></th>\n",
       "      <th>jobId</th>\n",
       "      <th>companyId</th>\n",
       "      <th>jobType</th>\n",
       "      <th>degree</th>\n",
       "      <th>major</th>\n",
       "      <th>industry</th>\n",
       "      <th>yearsExperience</th>\n",
       "      <th>milesFromMetropolis</th>\n",
       "      <th>salary</th>\n",
       "    </tr>\n",
       "  </thead>\n",
       "  <tbody>\n",
       "    <tr>\n",
       "      <th>0</th>\n",
       "      <td>JOB1362684407687</td>\n",
       "      <td>COMP37</td>\n",
       "      <td>CFO</td>\n",
       "      <td>MASTERS</td>\n",
       "      <td>MATH</td>\n",
       "      <td>HEALTH</td>\n",
       "      <td>10</td>\n",
       "      <td>83</td>\n",
       "      <td>130</td>\n",
       "    </tr>\n",
       "    <tr>\n",
       "      <th>1</th>\n",
       "      <td>JOB1362684407688</td>\n",
       "      <td>COMP19</td>\n",
       "      <td>CEO</td>\n",
       "      <td>HIGH_SCHOOL</td>\n",
       "      <td>NONE</td>\n",
       "      <td>WEB</td>\n",
       "      <td>3</td>\n",
       "      <td>73</td>\n",
       "      <td>101</td>\n",
       "    </tr>\n",
       "    <tr>\n",
       "      <th>2</th>\n",
       "      <td>JOB1362684407689</td>\n",
       "      <td>COMP52</td>\n",
       "      <td>VICE_PRESIDENT</td>\n",
       "      <td>DOCTORAL</td>\n",
       "      <td>PHYSICS</td>\n",
       "      <td>HEALTH</td>\n",
       "      <td>10</td>\n",
       "      <td>38</td>\n",
       "      <td>137</td>\n",
       "    </tr>\n",
       "    <tr>\n",
       "      <th>3</th>\n",
       "      <td>JOB1362684407690</td>\n",
       "      <td>COMP38</td>\n",
       "      <td>MANAGER</td>\n",
       "      <td>DOCTORAL</td>\n",
       "      <td>CHEMISTRY</td>\n",
       "      <td>AUTO</td>\n",
       "      <td>8</td>\n",
       "      <td>17</td>\n",
       "      <td>142</td>\n",
       "    </tr>\n",
       "    <tr>\n",
       "      <th>4</th>\n",
       "      <td>JOB1362684407691</td>\n",
       "      <td>COMP7</td>\n",
       "      <td>VICE_PRESIDENT</td>\n",
       "      <td>BACHELORS</td>\n",
       "      <td>PHYSICS</td>\n",
       "      <td>FINANCE</td>\n",
       "      <td>8</td>\n",
       "      <td>16</td>\n",
       "      <td>163</td>\n",
       "    </tr>\n",
       "  </tbody>\n",
       "</table>\n",
       "</div>"
      ],
      "text/plain": [
       "              jobId companyId         jobType       degree      major   \n",
       "0  JOB1362684407687    COMP37             CFO      MASTERS       MATH  \\\n",
       "1  JOB1362684407688    COMP19             CEO  HIGH_SCHOOL       NONE   \n",
       "2  JOB1362684407689    COMP52  VICE_PRESIDENT     DOCTORAL    PHYSICS   \n",
       "3  JOB1362684407690    COMP38         MANAGER     DOCTORAL  CHEMISTRY   \n",
       "4  JOB1362684407691     COMP7  VICE_PRESIDENT    BACHELORS    PHYSICS   \n",
       "\n",
       "  industry  yearsExperience  milesFromMetropolis  salary  \n",
       "0   HEALTH               10                   83     130  \n",
       "1      WEB                3                   73     101  \n",
       "2   HEALTH               10                   38     137  \n",
       "3     AUTO                8                   17     142  \n",
       "4  FINANCE                8                   16     163  "
      ]
     },
     "execution_count": 7,
     "metadata": {},
     "output_type": "execute_result"
    }
   ],
   "source": [
    "train_data.head()"
   ]
  },
  {
   "cell_type": "markdown",
   "metadata": {
    "id": "R77DB8k_oIzz"
   },
   "source": [
    "# Basic EDA"
   ]
  },
  {
   "cell_type": "markdown",
   "metadata": {
    "id": "lOU1QjkxoIzz"
   },
   "source": [
    "## Identifying the number of features or columns"
   ]
  },
  {
   "cell_type": "markdown",
   "metadata": {
    "id": "9dLpt1pjoIz0"
   },
   "source": [
    "## Know all the names of the columns¶"
   ]
  },
  {
   "cell_type": "code",
   "execution_count": 8,
   "metadata": {
    "colab": {
     "base_uri": "https://localhost:8080/"
    },
    "execution": {
     "iopub.execute_input": "2021-07-29T04:31:26.292049Z",
     "iopub.status.busy": "2021-07-29T04:31:26.291619Z",
     "iopub.status.idle": "2021-07-29T04:31:26.303286Z",
     "shell.execute_reply": "2021-07-29T04:31:26.301743Z",
     "shell.execute_reply.started": "2021-07-29T04:31:26.292011Z"
    },
    "id": "s77CzsoaoIz0",
    "outputId": "87dc7c3d-579e-40ec-9607-84d1ce202776"
   },
   "outputs": [
    {
     "data": {
      "text/plain": [
       "Index(['jobId', 'companyId', 'jobType', 'degree', 'major', 'industry',\n",
       "       'yearsExperience', 'milesFromMetropolis', 'salary'],\n",
       "      dtype='object')"
      ]
     },
     "execution_count": 8,
     "metadata": {},
     "output_type": "execute_result"
    }
   ],
   "source": [
    "# get all column names\n",
    "\n",
    "train_data.columns"
   ]
  },
  {
   "cell_type": "markdown",
   "metadata": {
    "id": "MwqbUBz1oIz2"
   },
   "source": [
    "## Knows more about the data in the columns like data type it contains and total samples of each"
   ]
  },
  {
   "cell_type": "code",
   "execution_count": 9,
   "metadata": {
    "colab": {
     "base_uri": "https://localhost:8080/"
    },
    "execution": {
     "iopub.execute_input": "2021-07-29T04:31:30.757819Z",
     "iopub.status.busy": "2021-07-29T04:31:30.757428Z",
     "iopub.status.idle": "2021-07-29T04:31:31.381280Z",
     "shell.execute_reply": "2021-07-29T04:31:31.380164Z",
     "shell.execute_reply.started": "2021-07-29T04:31:30.757782Z"
    },
    "id": "AdbefxL5oIz3",
    "outputId": "97c9d88d-2090-4b28-bd5a-3357df2b0396"
   },
   "outputs": [
    {
     "name": "stdout",
     "output_type": "stream",
     "text": [
      "<class 'pandas.core.frame.DataFrame'>\n",
      "RangeIndex: 1000000 entries, 0 to 999999\n",
      "Data columns (total 9 columns):\n",
      " #   Column               Non-Null Count    Dtype \n",
      "---  ------               --------------    ----- \n",
      " 0   jobId                1000000 non-null  object\n",
      " 1   companyId            1000000 non-null  object\n",
      " 2   jobType              1000000 non-null  object\n",
      " 3   degree               1000000 non-null  object\n",
      " 4   major                1000000 non-null  object\n",
      " 5   industry             1000000 non-null  object\n",
      " 6   yearsExperience      1000000 non-null  int64 \n",
      " 7   milesFromMetropolis  1000000 non-null  int64 \n",
      " 8   salary               1000000 non-null  int64 \n",
      "dtypes: int64(3), object(6)\n",
      "memory usage: 68.7+ MB\n"
     ]
    }
   ],
   "source": [
    "# Check which columns are having categorical, numerical or boolean values of train_dataset\n",
    "train_data.info()"
   ]
  },
  {
   "cell_type": "code",
   "execution_count": 10,
   "metadata": {
    "colab": {
     "base_uri": "https://localhost:8080/"
    },
    "execution": {
     "iopub.execute_input": "2021-07-29T04:31:34.559948Z",
     "iopub.status.busy": "2021-07-29T04:31:34.559581Z",
     "iopub.status.idle": "2021-07-29T04:31:35.172167Z",
     "shell.execute_reply": "2021-07-29T04:31:35.170713Z",
     "shell.execute_reply.started": "2021-07-29T04:31:34.559917Z"
    },
    "id": "AMdW-4ADoIz4",
    "outputId": "4c10fe43-df4d-4de9-f224-8fce022055cb"
   },
   "outputs": [
    {
     "name": "stdout",
     "output_type": "stream",
     "text": [
      "<class 'pandas.core.frame.DataFrame'>\n",
      "RangeIndex: 1000000 entries, 0 to 999999\n",
      "Data columns (total 8 columns):\n",
      " #   Column               Non-Null Count    Dtype \n",
      "---  ------               --------------    ----- \n",
      " 0   jobId                1000000 non-null  object\n",
      " 1   companyId            1000000 non-null  object\n",
      " 2   jobType              1000000 non-null  object\n",
      " 3   degree               1000000 non-null  object\n",
      " 4   major                1000000 non-null  object\n",
      " 5   industry             1000000 non-null  object\n",
      " 6   yearsExperience      1000000 non-null  int64 \n",
      " 7   milesFromMetropolis  1000000 non-null  int64 \n",
      "dtypes: int64(2), object(6)\n",
      "memory usage: 61.0+ MB\n"
     ]
    }
   ],
   "source": [
    "# Check which columns are having categorical, numerical or boolean values of test_dataset\n",
    "test_data.info()"
   ]
  },
  {
   "cell_type": "markdown",
   "metadata": {
    "id": "1OJik4SSoIz5"
   },
   "source": [
    "1. After checking the Dtypes of all the columns \n",
    "    1. object - String values\n",
    "    1. int64 - Numerical values\n",
    "1. There are more String values than the numerical values in the dataset"
   ]
  },
  {
   "cell_type": "markdown",
   "metadata": {
    "id": "zjhhJbKIoIz5"
   },
   "source": [
    "## Know more mathematical relations of the dataset like count, min, max values, standarad deviation values, mean and different percentile values"
   ]
  },
  {
   "cell_type": "code",
   "execution_count": 11,
   "metadata": {
    "colab": {
     "base_uri": "https://localhost:8080/",
     "height": 300
    },
    "execution": {
     "iopub.execute_input": "2021-07-29T04:31:38.153248Z",
     "iopub.status.busy": "2021-07-29T04:31:38.152834Z",
     "iopub.status.idle": "2021-07-29T04:31:38.325904Z",
     "shell.execute_reply": "2021-07-29T04:31:38.324641Z",
     "shell.execute_reply.started": "2021-07-29T04:31:38.153212Z"
    },
    "id": "vvFc2dJFoIz6",
    "outputId": "a13dbd3b-63fc-42f5-af2e-3ce598be026d"
   },
   "outputs": [
    {
     "data": {
      "text/html": [
       "<div>\n",
       "<style scoped>\n",
       "    .dataframe tbody tr th:only-of-type {\n",
       "        vertical-align: middle;\n",
       "    }\n",
       "\n",
       "    .dataframe tbody tr th {\n",
       "        vertical-align: top;\n",
       "    }\n",
       "\n",
       "    .dataframe thead th {\n",
       "        text-align: right;\n",
       "    }\n",
       "</style>\n",
       "<table border=\"1\" class=\"dataframe\">\n",
       "  <thead>\n",
       "    <tr style=\"text-align: right;\">\n",
       "      <th></th>\n",
       "      <th>yearsExperience</th>\n",
       "      <th>milesFromMetropolis</th>\n",
       "      <th>salary</th>\n",
       "    </tr>\n",
       "  </thead>\n",
       "  <tbody>\n",
       "    <tr>\n",
       "      <th>count</th>\n",
       "      <td>1000000.000000</td>\n",
       "      <td>1000000.000000</td>\n",
       "      <td>1000000.000000</td>\n",
       "    </tr>\n",
       "    <tr>\n",
       "      <th>mean</th>\n",
       "      <td>11.992386</td>\n",
       "      <td>49.529260</td>\n",
       "      <td>116.061818</td>\n",
       "    </tr>\n",
       "    <tr>\n",
       "      <th>std</th>\n",
       "      <td>7.212391</td>\n",
       "      <td>28.877733</td>\n",
       "      <td>38.717936</td>\n",
       "    </tr>\n",
       "    <tr>\n",
       "      <th>min</th>\n",
       "      <td>0.000000</td>\n",
       "      <td>0.000000</td>\n",
       "      <td>0.000000</td>\n",
       "    </tr>\n",
       "    <tr>\n",
       "      <th>25%</th>\n",
       "      <td>6.000000</td>\n",
       "      <td>25.000000</td>\n",
       "      <td>88.000000</td>\n",
       "    </tr>\n",
       "    <tr>\n",
       "      <th>50%</th>\n",
       "      <td>12.000000</td>\n",
       "      <td>50.000000</td>\n",
       "      <td>114.000000</td>\n",
       "    </tr>\n",
       "    <tr>\n",
       "      <th>75%</th>\n",
       "      <td>18.000000</td>\n",
       "      <td>75.000000</td>\n",
       "      <td>141.000000</td>\n",
       "    </tr>\n",
       "    <tr>\n",
       "      <th>max</th>\n",
       "      <td>24.000000</td>\n",
       "      <td>99.000000</td>\n",
       "      <td>301.000000</td>\n",
       "    </tr>\n",
       "  </tbody>\n",
       "</table>\n",
       "</div>"
      ],
      "text/plain": [
       "       yearsExperience  milesFromMetropolis          salary\n",
       "count   1000000.000000       1000000.000000  1000000.000000\n",
       "mean         11.992386            49.529260      116.061818\n",
       "std           7.212391            28.877733       38.717936\n",
       "min           0.000000             0.000000        0.000000\n",
       "25%           6.000000            25.000000       88.000000\n",
       "50%          12.000000            50.000000      114.000000\n",
       "75%          18.000000            75.000000      141.000000\n",
       "max          24.000000            99.000000      301.000000"
      ]
     },
     "execution_count": 11,
     "metadata": {},
     "output_type": "execute_result"
    }
   ],
   "source": [
    "# For train_dataset\n",
    "# For more information on the dataset like the total count in all the columns\n",
    "# min, max values and more information of the respective columns  \n",
    "\n",
    "train_data.describe()"
   ]
  },
  {
   "cell_type": "code",
   "execution_count": 12,
   "metadata": {
    "colab": {
     "base_uri": "https://localhost:8080/",
     "height": 300
    },
    "execution": {
     "iopub.execute_input": "2021-07-29T04:31:40.341016Z",
     "iopub.status.busy": "2021-07-29T04:31:40.340633Z",
     "iopub.status.idle": "2021-07-29T04:31:40.434477Z",
     "shell.execute_reply": "2021-07-29T04:31:40.433497Z",
     "shell.execute_reply.started": "2021-07-29T04:31:40.340984Z"
    },
    "id": "SKM8G5f8oIz6",
    "outputId": "0e912dc3-81a7-4aee-ef80-1947143fef8b"
   },
   "outputs": [
    {
     "data": {
      "text/html": [
       "<div>\n",
       "<style scoped>\n",
       "    .dataframe tbody tr th:only-of-type {\n",
       "        vertical-align: middle;\n",
       "    }\n",
       "\n",
       "    .dataframe tbody tr th {\n",
       "        vertical-align: top;\n",
       "    }\n",
       "\n",
       "    .dataframe thead th {\n",
       "        text-align: right;\n",
       "    }\n",
       "</style>\n",
       "<table border=\"1\" class=\"dataframe\">\n",
       "  <thead>\n",
       "    <tr style=\"text-align: right;\">\n",
       "      <th></th>\n",
       "      <th>yearsExperience</th>\n",
       "      <th>milesFromMetropolis</th>\n",
       "    </tr>\n",
       "  </thead>\n",
       "  <tbody>\n",
       "    <tr>\n",
       "      <th>count</th>\n",
       "      <td>1000000.000000</td>\n",
       "      <td>1000000.000000</td>\n",
       "    </tr>\n",
       "    <tr>\n",
       "      <th>mean</th>\n",
       "      <td>12.002104</td>\n",
       "      <td>49.526414</td>\n",
       "    </tr>\n",
       "    <tr>\n",
       "      <th>std</th>\n",
       "      <td>7.213179</td>\n",
       "      <td>28.889713</td>\n",
       "    </tr>\n",
       "    <tr>\n",
       "      <th>min</th>\n",
       "      <td>0.000000</td>\n",
       "      <td>0.000000</td>\n",
       "    </tr>\n",
       "    <tr>\n",
       "      <th>25%</th>\n",
       "      <td>6.000000</td>\n",
       "      <td>25.000000</td>\n",
       "    </tr>\n",
       "    <tr>\n",
       "      <th>50%</th>\n",
       "      <td>12.000000</td>\n",
       "      <td>50.000000</td>\n",
       "    </tr>\n",
       "    <tr>\n",
       "      <th>75%</th>\n",
       "      <td>18.000000</td>\n",
       "      <td>75.000000</td>\n",
       "    </tr>\n",
       "    <tr>\n",
       "      <th>max</th>\n",
       "      <td>24.000000</td>\n",
       "      <td>99.000000</td>\n",
       "    </tr>\n",
       "  </tbody>\n",
       "</table>\n",
       "</div>"
      ],
      "text/plain": [
       "       yearsExperience  milesFromMetropolis\n",
       "count   1000000.000000       1000000.000000\n",
       "mean         12.002104            49.526414\n",
       "std           7.213179            28.889713\n",
       "min           0.000000             0.000000\n",
       "25%           6.000000            25.000000\n",
       "50%          12.000000            50.000000\n",
       "75%          18.000000            75.000000\n",
       "max          24.000000            99.000000"
      ]
     },
     "execution_count": 12,
     "metadata": {},
     "output_type": "execute_result"
    }
   ],
   "source": [
    "# for test_dataset\n",
    "# For more information on the dataset like the total count in all the columns\n",
    "# min, max values and more information of the respective columns\n",
    "\n",
    "test_data.describe()"
   ]
  },
  {
   "cell_type": "markdown",
   "metadata": {
    "id": "u6Q_0mG5oIz6"
   },
   "source": [
    "## Get the total number of samples in the dataset"
   ]
  },
  {
   "cell_type": "code",
   "execution_count": 13,
   "metadata": {
    "colab": {
     "base_uri": "https://localhost:8080/"
    },
    "execution": {
     "iopub.execute_input": "2021-07-29T04:31:43.431796Z",
     "iopub.status.busy": "2021-07-29T04:31:43.431083Z",
     "iopub.status.idle": "2021-07-29T04:31:43.438873Z",
     "shell.execute_reply": "2021-07-29T04:31:43.437602Z",
     "shell.execute_reply.started": "2021-07-29T04:31:43.431743Z"
    },
    "id": "iCHRFn93oIz7",
    "outputId": "ebbc8b4a-0b93-4332-e82d-3523bf7231e2"
   },
   "outputs": [
    {
     "name": "stdout",
     "output_type": "stream",
     "text": [
      "train data length: 1000000\n",
      "test data length: 1000000\n"
     ]
    }
   ],
   "source": [
    "# len of train and test dataset\n",
    "print('train data length:',len(train_data))\n",
    "print('test data length:',len(test_data))"
   ]
  },
  {
   "cell_type": "markdown",
   "metadata": {
    "id": "Q6ymmsOGoIz7"
   },
   "source": [
    "## Get unique values"
   ]
  },
  {
   "cell_type": "code",
   "execution_count": 14,
   "metadata": {
    "colab": {
     "base_uri": "https://localhost:8080/"
    },
    "execution": {
     "iopub.execute_input": "2021-07-29T04:31:45.533618Z",
     "iopub.status.busy": "2021-07-29T04:31:45.533132Z",
     "iopub.status.idle": "2021-07-29T04:31:46.482268Z",
     "shell.execute_reply": "2021-07-29T04:31:46.481033Z",
     "shell.execute_reply.started": "2021-07-29T04:31:45.533572Z"
    },
    "id": "-SrQayENoIz7",
    "outputId": "16cb4fc4-c9af-4ea8-99cc-49b8ad9c62bf",
    "scrolled": false
   },
   "outputs": [
    {
     "data": {
      "text/plain": [
       "jobId                  1000000\n",
       "companyId                   63\n",
       "jobType                      8\n",
       "degree                       5\n",
       "major                        9\n",
       "industry                     7\n",
       "yearsExperience             25\n",
       "milesFromMetropolis        100\n",
       "salary                     280\n",
       "dtype: int64"
      ]
     },
     "execution_count": 14,
     "metadata": {},
     "output_type": "execute_result"
    }
   ],
   "source": [
    "# get how many unique values are in train_dataset\n",
    "train_data.nunique()"
   ]
  },
  {
   "cell_type": "markdown",
   "metadata": {},
   "source": [
    "### Checking different categories of the categorical columns"
   ]
  },
  {
   "cell_type": "code",
   "execution_count": 15,
   "metadata": {
    "scrolled": true
   },
   "outputs": [
    {
     "data": {
      "text/plain": [
       "jobType\n",
       "SENIOR            125886\n",
       "VICE_PRESIDENT    125235\n",
       "MANAGER           125121\n",
       "CTO               125046\n",
       "JANITOR           124971\n",
       "CEO               124778\n",
       "JUNIOR            124594\n",
       "CFO               124369\n",
       "Name: count, dtype: int64"
      ]
     },
     "execution_count": 15,
     "metadata": {},
     "output_type": "execute_result"
    }
   ],
   "source": [
    "train_data['jobType'].value_counts()"
   ]
  },
  {
   "cell_type": "code",
   "execution_count": 16,
   "metadata": {
    "scrolled": true
   },
   "outputs": [
    {
     "data": {
      "text/plain": [
       "degree\n",
       "HIGH_SCHOOL    236976\n",
       "NONE           236854\n",
       "BACHELORS      175495\n",
       "DOCTORAL       175364\n",
       "MASTERS        175311\n",
       "Name: count, dtype: int64"
      ]
     },
     "execution_count": 16,
     "metadata": {},
     "output_type": "execute_result"
    }
   ],
   "source": [
    "train_data['degree'].value_counts()"
   ]
  },
  {
   "cell_type": "code",
   "execution_count": 17,
   "metadata": {
    "scrolled": true
   },
   "outputs": [
    {
     "data": {
      "text/plain": [
       "major\n",
       "NONE           532355\n",
       "CHEMISTRY       58875\n",
       "LITERATURE      58684\n",
       "ENGINEERING     58596\n",
       "BUSINESS        58518\n",
       "PHYSICS         58410\n",
       "COMPSCI         58382\n",
       "BIOLOGY         58379\n",
       "MATH            57801\n",
       "Name: count, dtype: int64"
      ]
     },
     "execution_count": 17,
     "metadata": {},
     "output_type": "execute_result"
    }
   ],
   "source": [
    "train_data['major'].value_counts()"
   ]
  },
  {
   "cell_type": "code",
   "execution_count": 18,
   "metadata": {},
   "outputs": [
    {
     "data": {
      "text/plain": [
       "industry\n",
       "WEB          143206\n",
       "AUTO         142943\n",
       "FINANCE      142867\n",
       "EDUCATION    142819\n",
       "OIL          142771\n",
       "HEALTH       142755\n",
       "SERVICE      142639\n",
       "Name: count, dtype: int64"
      ]
     },
     "execution_count": 18,
     "metadata": {},
     "output_type": "execute_result"
    }
   ],
   "source": [
    "train_data['industry'].value_counts()"
   ]
  },
  {
   "cell_type": "code",
   "execution_count": 19,
   "metadata": {
    "colab": {
     "base_uri": "https://localhost:8080/"
    },
    "execution": {
     "iopub.execute_input": "2021-07-29T04:31:48.477896Z",
     "iopub.status.busy": "2021-07-29T04:31:48.477506Z",
     "iopub.status.idle": "2021-07-29T04:31:49.316097Z",
     "shell.execute_reply": "2021-07-29T04:31:49.314863Z",
     "shell.execute_reply.started": "2021-07-29T04:31:48.477862Z"
    },
    "id": "gpbSbM8ioIz8",
    "outputId": "e5fe93a6-b648-466a-85a6-0e215bb7b6c7"
   },
   "outputs": [
    {
     "data": {
      "text/plain": [
       "jobId                  1000000\n",
       "companyId                   63\n",
       "jobType                      8\n",
       "degree                       5\n",
       "major                        9\n",
       "industry                     7\n",
       "yearsExperience             25\n",
       "milesFromMetropolis        100\n",
       "dtype: int64"
      ]
     },
     "execution_count": 19,
     "metadata": {},
     "output_type": "execute_result"
    }
   ],
   "source": [
    "# get how many unique values are in test_dataset\n",
    "test_data.nunique()"
   ]
  },
  {
   "cell_type": "markdown",
   "metadata": {
    "id": "lcELx0b9oIz8"
   },
   "source": [
    "## Counting the total number of missing values¶"
   ]
  },
  {
   "cell_type": "code",
   "execution_count": 20,
   "metadata": {
    "colab": {
     "base_uri": "https://localhost:8080/"
    },
    "execution": {
     "iopub.execute_input": "2021-07-29T04:31:52.518432Z",
     "iopub.status.busy": "2021-07-29T04:31:52.517882Z",
     "iopub.status.idle": "2021-07-29T04:31:53.128388Z",
     "shell.execute_reply": "2021-07-29T04:31:53.127499Z",
     "shell.execute_reply.started": "2021-07-29T04:31:52.518388Z"
    },
    "id": "smt_f1IdoIz8",
    "outputId": "8c21c581-67b2-4b48-a179-66bab3e8b877"
   },
   "outputs": [
    {
     "data": {
      "text/plain": [
       "jobId                  0\n",
       "companyId              0\n",
       "jobType                0\n",
       "degree                 0\n",
       "major                  0\n",
       "industry               0\n",
       "yearsExperience        0\n",
       "milesFromMetropolis    0\n",
       "salary                 0\n",
       "dtype: int64"
      ]
     },
     "execution_count": 20,
     "metadata": {},
     "output_type": "execute_result"
    }
   ],
   "source": [
    "# Check for missing values in all the columnns of the train_dataset\n",
    "train_data.isnull().sum()"
   ]
  },
  {
   "cell_type": "code",
   "execution_count": 21,
   "metadata": {
    "colab": {
     "base_uri": "https://localhost:8080/"
    },
    "execution": {
     "iopub.execute_input": "2021-07-29T04:31:55.343633Z",
     "iopub.status.busy": "2021-07-29T04:31:55.343249Z",
     "iopub.status.idle": "2021-07-29T04:31:55.951707Z",
     "shell.execute_reply": "2021-07-29T04:31:55.950429Z",
     "shell.execute_reply.started": "2021-07-29T04:31:55.343598Z"
    },
    "id": "6nZgoGSwoIz8",
    "outputId": "c011284a-1a24-4ff0-cd7b-0e6d19eac8a1"
   },
   "outputs": [
    {
     "data": {
      "text/plain": [
       "jobId                  0\n",
       "companyId              0\n",
       "jobType                0\n",
       "degree                 0\n",
       "major                  0\n",
       "industry               0\n",
       "yearsExperience        0\n",
       "milesFromMetropolis    0\n",
       "dtype: int64"
      ]
     },
     "execution_count": 21,
     "metadata": {},
     "output_type": "execute_result"
    }
   ],
   "source": [
    " # Check for missing values in all the columnns of the test_dataset\n",
    "test_data.isnull().sum()"
   ]
  },
  {
   "cell_type": "markdown",
   "metadata": {
    "id": "f5ARlvYSoIz9"
   },
   "source": [
    "#### By the observation gather from the train_data.info(), we can know there are no missing values in the train and test dataset"
   ]
  },
  {
   "cell_type": "markdown",
   "metadata": {
    "id": "dJae7qRCoIz9"
   },
   "source": [
    "## removing 'jobId' and 'companyId' data from train and test data ( Those are unique values and doesn't contribute in model building)"
   ]
  },
  {
   "cell_type": "code",
   "execution_count": 22,
   "metadata": {
    "colab": {
     "base_uri": "https://localhost:8080/",
     "height": 424
    },
    "id": "43wF9FahseBR",
    "outputId": "4938e571-4af9-4d22-84f8-4ad12be360a1"
   },
   "outputs": [
    {
     "data": {
      "text/html": [
       "<div>\n",
       "<style scoped>\n",
       "    .dataframe tbody tr th:only-of-type {\n",
       "        vertical-align: middle;\n",
       "    }\n",
       "\n",
       "    .dataframe tbody tr th {\n",
       "        vertical-align: top;\n",
       "    }\n",
       "\n",
       "    .dataframe thead th {\n",
       "        text-align: right;\n",
       "    }\n",
       "</style>\n",
       "<table border=\"1\" class=\"dataframe\">\n",
       "  <thead>\n",
       "    <tr style=\"text-align: right;\">\n",
       "      <th></th>\n",
       "      <th>jobType</th>\n",
       "      <th>degree</th>\n",
       "      <th>major</th>\n",
       "      <th>industry</th>\n",
       "      <th>yearsExperience</th>\n",
       "      <th>milesFromMetropolis</th>\n",
       "      <th>salary</th>\n",
       "    </tr>\n",
       "  </thead>\n",
       "  <tbody>\n",
       "    <tr>\n",
       "      <th>0</th>\n",
       "      <td>CFO</td>\n",
       "      <td>MASTERS</td>\n",
       "      <td>MATH</td>\n",
       "      <td>HEALTH</td>\n",
       "      <td>10</td>\n",
       "      <td>83</td>\n",
       "      <td>130</td>\n",
       "    </tr>\n",
       "    <tr>\n",
       "      <th>1</th>\n",
       "      <td>CEO</td>\n",
       "      <td>HIGH_SCHOOL</td>\n",
       "      <td>NONE</td>\n",
       "      <td>WEB</td>\n",
       "      <td>3</td>\n",
       "      <td>73</td>\n",
       "      <td>101</td>\n",
       "    </tr>\n",
       "    <tr>\n",
       "      <th>2</th>\n",
       "      <td>VICE_PRESIDENT</td>\n",
       "      <td>DOCTORAL</td>\n",
       "      <td>PHYSICS</td>\n",
       "      <td>HEALTH</td>\n",
       "      <td>10</td>\n",
       "      <td>38</td>\n",
       "      <td>137</td>\n",
       "    </tr>\n",
       "    <tr>\n",
       "      <th>3</th>\n",
       "      <td>MANAGER</td>\n",
       "      <td>DOCTORAL</td>\n",
       "      <td>CHEMISTRY</td>\n",
       "      <td>AUTO</td>\n",
       "      <td>8</td>\n",
       "      <td>17</td>\n",
       "      <td>142</td>\n",
       "    </tr>\n",
       "    <tr>\n",
       "      <th>4</th>\n",
       "      <td>VICE_PRESIDENT</td>\n",
       "      <td>BACHELORS</td>\n",
       "      <td>PHYSICS</td>\n",
       "      <td>FINANCE</td>\n",
       "      <td>8</td>\n",
       "      <td>16</td>\n",
       "      <td>163</td>\n",
       "    </tr>\n",
       "    <tr>\n",
       "      <th>...</th>\n",
       "      <td>...</td>\n",
       "      <td>...</td>\n",
       "      <td>...</td>\n",
       "      <td>...</td>\n",
       "      <td>...</td>\n",
       "      <td>...</td>\n",
       "      <td>...</td>\n",
       "    </tr>\n",
       "    <tr>\n",
       "      <th>999995</th>\n",
       "      <td>VICE_PRESIDENT</td>\n",
       "      <td>BACHELORS</td>\n",
       "      <td>CHEMISTRY</td>\n",
       "      <td>HEALTH</td>\n",
       "      <td>19</td>\n",
       "      <td>94</td>\n",
       "      <td>88</td>\n",
       "    </tr>\n",
       "    <tr>\n",
       "      <th>999996</th>\n",
       "      <td>CTO</td>\n",
       "      <td>HIGH_SCHOOL</td>\n",
       "      <td>NONE</td>\n",
       "      <td>FINANCE</td>\n",
       "      <td>12</td>\n",
       "      <td>35</td>\n",
       "      <td>160</td>\n",
       "    </tr>\n",
       "    <tr>\n",
       "      <th>999997</th>\n",
       "      <td>JUNIOR</td>\n",
       "      <td>HIGH_SCHOOL</td>\n",
       "      <td>NONE</td>\n",
       "      <td>EDUCATION</td>\n",
       "      <td>16</td>\n",
       "      <td>81</td>\n",
       "      <td>64</td>\n",
       "    </tr>\n",
       "    <tr>\n",
       "      <th>999998</th>\n",
       "      <td>CFO</td>\n",
       "      <td>MASTERS</td>\n",
       "      <td>NONE</td>\n",
       "      <td>HEALTH</td>\n",
       "      <td>6</td>\n",
       "      <td>5</td>\n",
       "      <td>149</td>\n",
       "    </tr>\n",
       "    <tr>\n",
       "      <th>999999</th>\n",
       "      <td>JUNIOR</td>\n",
       "      <td>BACHELORS</td>\n",
       "      <td>NONE</td>\n",
       "      <td>EDUCATION</td>\n",
       "      <td>20</td>\n",
       "      <td>11</td>\n",
       "      <td>88</td>\n",
       "    </tr>\n",
       "  </tbody>\n",
       "</table>\n",
       "<p>1000000 rows × 7 columns</p>\n",
       "</div>"
      ],
      "text/plain": [
       "               jobType       degree      major   industry  yearsExperience   \n",
       "0                  CFO      MASTERS       MATH     HEALTH               10  \\\n",
       "1                  CEO  HIGH_SCHOOL       NONE        WEB                3   \n",
       "2       VICE_PRESIDENT     DOCTORAL    PHYSICS     HEALTH               10   \n",
       "3              MANAGER     DOCTORAL  CHEMISTRY       AUTO                8   \n",
       "4       VICE_PRESIDENT    BACHELORS    PHYSICS    FINANCE                8   \n",
       "...                ...          ...        ...        ...              ...   \n",
       "999995  VICE_PRESIDENT    BACHELORS  CHEMISTRY     HEALTH               19   \n",
       "999996             CTO  HIGH_SCHOOL       NONE    FINANCE               12   \n",
       "999997          JUNIOR  HIGH_SCHOOL       NONE  EDUCATION               16   \n",
       "999998             CFO      MASTERS       NONE     HEALTH                6   \n",
       "999999          JUNIOR    BACHELORS       NONE  EDUCATION               20   \n",
       "\n",
       "        milesFromMetropolis  salary  \n",
       "0                        83     130  \n",
       "1                        73     101  \n",
       "2                        38     137  \n",
       "3                        17     142  \n",
       "4                        16     163  \n",
       "...                     ...     ...  \n",
       "999995                   94      88  \n",
       "999996                   35     160  \n",
       "999997                   81      64  \n",
       "999998                    5     149  \n",
       "999999                   11      88  \n",
       "\n",
       "[1000000 rows x 7 columns]"
      ]
     },
     "execution_count": 22,
     "metadata": {},
     "output_type": "execute_result"
    }
   ],
   "source": [
    "# drop jobId and companyId from train_dataset\n",
    "train_data = train_data.drop(['jobId','companyId'],axis = 1)\n",
    "train_data"
   ]
  },
  {
   "cell_type": "code",
   "execution_count": 23,
   "metadata": {
    "colab": {
     "base_uri": "https://localhost:8080/",
     "height": 424
    },
    "execution": {
     "iopub.execute_input": "2021-07-29T04:32:06.013250Z",
     "iopub.status.busy": "2021-07-29T04:32:06.012750Z",
     "iopub.status.idle": "2021-07-29T04:32:06.046443Z",
     "shell.execute_reply": "2021-07-29T04:32:06.044800Z",
     "shell.execute_reply.started": "2021-07-29T04:32:06.013206Z"
    },
    "id": "HFwk9xWyoIz-",
    "outputId": "ea8fceae-254d-428a-e894-34de44aee8d2"
   },
   "outputs": [
    {
     "data": {
      "text/html": [
       "<div>\n",
       "<style scoped>\n",
       "    .dataframe tbody tr th:only-of-type {\n",
       "        vertical-align: middle;\n",
       "    }\n",
       "\n",
       "    .dataframe tbody tr th {\n",
       "        vertical-align: top;\n",
       "    }\n",
       "\n",
       "    .dataframe thead th {\n",
       "        text-align: right;\n",
       "    }\n",
       "</style>\n",
       "<table border=\"1\" class=\"dataframe\">\n",
       "  <thead>\n",
       "    <tr style=\"text-align: right;\">\n",
       "      <th></th>\n",
       "      <th>jobType</th>\n",
       "      <th>degree</th>\n",
       "      <th>major</th>\n",
       "      <th>industry</th>\n",
       "      <th>yearsExperience</th>\n",
       "      <th>milesFromMetropolis</th>\n",
       "    </tr>\n",
       "  </thead>\n",
       "  <tbody>\n",
       "    <tr>\n",
       "      <th>0</th>\n",
       "      <td>MANAGER</td>\n",
       "      <td>HIGH_SCHOOL</td>\n",
       "      <td>NONE</td>\n",
       "      <td>HEALTH</td>\n",
       "      <td>22</td>\n",
       "      <td>73</td>\n",
       "    </tr>\n",
       "    <tr>\n",
       "      <th>1</th>\n",
       "      <td>JUNIOR</td>\n",
       "      <td>NONE</td>\n",
       "      <td>NONE</td>\n",
       "      <td>AUTO</td>\n",
       "      <td>20</td>\n",
       "      <td>47</td>\n",
       "    </tr>\n",
       "    <tr>\n",
       "      <th>2</th>\n",
       "      <td>CTO</td>\n",
       "      <td>MASTERS</td>\n",
       "      <td>BIOLOGY</td>\n",
       "      <td>HEALTH</td>\n",
       "      <td>17</td>\n",
       "      <td>9</td>\n",
       "    </tr>\n",
       "    <tr>\n",
       "      <th>3</th>\n",
       "      <td>MANAGER</td>\n",
       "      <td>HIGH_SCHOOL</td>\n",
       "      <td>NONE</td>\n",
       "      <td>OIL</td>\n",
       "      <td>14</td>\n",
       "      <td>96</td>\n",
       "    </tr>\n",
       "    <tr>\n",
       "      <th>4</th>\n",
       "      <td>JUNIOR</td>\n",
       "      <td>DOCTORAL</td>\n",
       "      <td>BIOLOGY</td>\n",
       "      <td>OIL</td>\n",
       "      <td>10</td>\n",
       "      <td>44</td>\n",
       "    </tr>\n",
       "    <tr>\n",
       "      <th>...</th>\n",
       "      <td>...</td>\n",
       "      <td>...</td>\n",
       "      <td>...</td>\n",
       "      <td>...</td>\n",
       "      <td>...</td>\n",
       "      <td>...</td>\n",
       "    </tr>\n",
       "    <tr>\n",
       "      <th>999995</th>\n",
       "      <td>VICE_PRESIDENT</td>\n",
       "      <td>BACHELORS</td>\n",
       "      <td>MATH</td>\n",
       "      <td>OIL</td>\n",
       "      <td>14</td>\n",
       "      <td>3</td>\n",
       "    </tr>\n",
       "    <tr>\n",
       "      <th>999996</th>\n",
       "      <td>MANAGER</td>\n",
       "      <td>NONE</td>\n",
       "      <td>NONE</td>\n",
       "      <td>HEALTH</td>\n",
       "      <td>20</td>\n",
       "      <td>67</td>\n",
       "    </tr>\n",
       "    <tr>\n",
       "      <th>999997</th>\n",
       "      <td>JANITOR</td>\n",
       "      <td>NONE</td>\n",
       "      <td>NONE</td>\n",
       "      <td>OIL</td>\n",
       "      <td>1</td>\n",
       "      <td>91</td>\n",
       "    </tr>\n",
       "    <tr>\n",
       "      <th>999998</th>\n",
       "      <td>CTO</td>\n",
       "      <td>DOCTORAL</td>\n",
       "      <td>MATH</td>\n",
       "      <td>OIL</td>\n",
       "      <td>14</td>\n",
       "      <td>63</td>\n",
       "    </tr>\n",
       "    <tr>\n",
       "      <th>999999</th>\n",
       "      <td>JUNIOR</td>\n",
       "      <td>NONE</td>\n",
       "      <td>NONE</td>\n",
       "      <td>OIL</td>\n",
       "      <td>16</td>\n",
       "      <td>31</td>\n",
       "    </tr>\n",
       "  </tbody>\n",
       "</table>\n",
       "<p>1000000 rows × 6 columns</p>\n",
       "</div>"
      ],
      "text/plain": [
       "               jobType       degree    major industry  yearsExperience   \n",
       "0              MANAGER  HIGH_SCHOOL     NONE   HEALTH               22  \\\n",
       "1               JUNIOR         NONE     NONE     AUTO               20   \n",
       "2                  CTO      MASTERS  BIOLOGY   HEALTH               17   \n",
       "3              MANAGER  HIGH_SCHOOL     NONE      OIL               14   \n",
       "4               JUNIOR     DOCTORAL  BIOLOGY      OIL               10   \n",
       "...                ...          ...      ...      ...              ...   \n",
       "999995  VICE_PRESIDENT    BACHELORS     MATH      OIL               14   \n",
       "999996         MANAGER         NONE     NONE   HEALTH               20   \n",
       "999997         JANITOR         NONE     NONE      OIL                1   \n",
       "999998             CTO     DOCTORAL     MATH      OIL               14   \n",
       "999999          JUNIOR         NONE     NONE      OIL               16   \n",
       "\n",
       "        milesFromMetropolis  \n",
       "0                        73  \n",
       "1                        47  \n",
       "2                         9  \n",
       "3                        96  \n",
       "4                        44  \n",
       "...                     ...  \n",
       "999995                    3  \n",
       "999996                   67  \n",
       "999997                   91  \n",
       "999998                   63  \n",
       "999999                   31  \n",
       "\n",
       "[1000000 rows x 6 columns]"
      ]
     },
     "execution_count": 23,
     "metadata": {},
     "output_type": "execute_result"
    }
   ],
   "source": [
    "# drop jobId and companyId from test_dataset\n",
    "test_data = test_data.drop(['jobId','companyId'],axis = 1)\n",
    "test_data"
   ]
  },
  {
   "cell_type": "markdown",
   "metadata": {
    "id": "CxMdiTFSoIz-"
   },
   "source": [
    "## Check for categorical columns in the dataset\n",
    "\n",
    "By observing the train_data.info() cell, we can biforcate the datatype for which the object is the values which indicates those are the categorical columns. This dataset has more categorical columns than numerical values\n",
    "\n",
    "1. jobType\n",
    "2. degree\n",
    "3. major\n",
    "4. industry"
   ]
  },
  {
   "cell_type": "code",
   "execution_count": 24,
   "metadata": {
    "execution": {
     "iopub.execute_input": "2021-07-29T04:32:17.471354Z",
     "iopub.status.busy": "2021-07-29T04:32:17.470699Z",
     "iopub.status.idle": "2021-07-29T04:32:17.480771Z",
     "shell.execute_reply": "2021-07-29T04:32:17.478890Z",
     "shell.execute_reply.started": "2021-07-29T04:32:17.471282Z"
    },
    "id": "-DMKSHGdoIz_"
   },
   "outputs": [],
   "source": [
    "# creating two empty list to store categorical column names and numerical column names respectively\n",
    "categorical_column = train_data.select_dtypes(exclude=np.number).columns.tolist()\n",
    "numerical_column = train_data.select_dtypes(include=np.number).columns.tolist()"
   ]
  },
  {
   "cell_type": "code",
   "execution_count": 25,
   "metadata": {},
   "outputs": [
    {
     "name": "stdout",
     "output_type": "stream",
     "text": [
      "['jobType', 'degree', 'major', 'industry']\n",
      "['yearsExperience', 'milesFromMetropolis', 'salary']\n"
     ]
    }
   ],
   "source": [
    "print(categorical_column)\n",
    "print(numerical_column)"
   ]
  },
  {
   "cell_type": "markdown",
   "metadata": {
    "id": "f7HPmp72oIz_"
   },
   "source": [
    "## Correlation Matrix"
   ]
  },
  {
   "cell_type": "markdown",
   "metadata": {
    "id": "57vTx8IYoIz_"
   },
   "source": [
    "### A correlation matrix is a table showing correlation coefficients between variables."
   ]
  },
  {
   "cell_type": "code",
   "execution_count": 26,
   "metadata": {
    "colab": {
     "base_uri": "https://localhost:8080/",
     "height": 143
    },
    "execution": {
     "iopub.execute_input": "2021-07-29T04:32:21.918514Z",
     "iopub.status.busy": "2021-07-29T04:32:21.918074Z",
     "iopub.status.idle": "2021-07-29T04:32:22.031186Z",
     "shell.execute_reply": "2021-07-29T04:32:22.030137Z",
     "shell.execute_reply.started": "2021-07-29T04:32:21.918477Z"
    },
    "id": "Tnbta8wooI0A",
    "outputId": "d33a98a3-b108-42eb-8932-b14f5f493dcb"
   },
   "outputs": [
    {
     "data": {
      "text/plain": [
       "<AxesSubplot:>"
      ]
     },
     "execution_count": 26,
     "metadata": {},
     "output_type": "execute_result"
    },
    {
     "data": {
      "image/png": "[encoded data removed]",
      "text/plain": [
       "<Figure size 432x288 with 2 Axes>"
      ]
     },
     "metadata": {
      "needs_background": "light"
     },
     "output_type": "display_data"
    }
   ],
   "source": [
    "# Correlation metrix using pandas\n",
    "corr = train_data.corr(numeric_only=True)\n",
    "sns.heatmap(train_data.corr(numeric_only=True),annot = True)"
   ]
  },
  {
   "cell_type": "markdown",
   "metadata": {
    "id": "5WQTlewG8cFW"
   },
   "source": [
    "## From above correlation matrix:\n",
    "1. yearsExperience and salary are positively correlated.\n",
    "\n",
    "2. yearsExperience and milesFromMetropolis have no correlation.\n",
    "\n",
    "3. milesFromMetropolis and salary are weakly negatively correlated."
   ]
  },
  {
   "cell_type": "markdown",
   "metadata": {
    "id": "_MQIVQZroI0A"
   },
   "source": [
    "## Chi-square Test"
   ]
  },
  {
   "cell_type": "code",
   "execution_count": 27,
   "metadata": {
    "execution": {
     "iopub.execute_input": "2021-07-29T04:32:37.336810Z",
     "iopub.status.busy": "2021-07-29T04:32:37.336380Z",
     "iopub.status.idle": "2021-07-29T04:32:37.349693Z",
     "shell.execute_reply": "2021-07-29T04:32:37.348025Z",
     "shell.execute_reply.started": "2021-07-29T04:32:37.336776Z"
    },
    "id": "btHTJGSQoI0A"
   },
   "outputs": [],
   "source": [
    "# import necessary libraries for chi-square test\n",
    "\n",
    "def perform_chi_square_test(var_1,var_2):\n",
    "    \n",
    "    #Contingency Table\n",
    "    contingency_table = pd.crosstab(train_data[var_1],train_data[var_2])\n",
    "    \n",
    "    #Observed Values\n",
    "    observed_values = contingency_table.values\n",
    "    \n",
    "    #Expected Values\n",
    "    b = chi2_contingency(contingency_table)\n",
    "    expected_values = b[3]\n",
    "    \n",
    "    #Degree of Freedom\n",
    "    no_of_rows = len(contingency_table.iloc[0:,0])\n",
    "    no_of_columns = len(contingency_table.iloc[0,0:])\n",
    "    degree_f= (no_of_rows-1) * (no_of_columns-1)\n",
    "    print(\"Degree of Freedom: \",degree_f)\n",
    "    \n",
    "    #Significance Level 5%\n",
    "    alpha = 0.05\n",
    "    print('Significance level: ',alpha)\n",
    "    \n",
    "    #chi-square statistic\n",
    "    chi_square = sum([((o-e)**2)/e for o,e in zip (observed_values,expected_values)])\n",
    "    chi_square_statistic = chi_square[0] + chi_square[1]\n",
    "    print(\"chi-square statistic: \",chi_square_statistic)\n",
    "    \n",
    "    #critical_value\n",
    "    critical_value= chi2.ppf(q = 1- alpha,df = degree_f)\n",
    "    print('critical_value:',critical_value)\n",
    "    \n",
    "    #p-value\n",
    "    p_value = 1 - chi2.cdf(x=chi_square_statistic,df=degree_f)\n",
    "\n",
    "    print('p-value:',p_value)\n",
    "          \n",
    "    if chi_square_statistic>=critical_value:\n",
    "        print(\"Reject H0,There is a relationship between 2 categorical variables\")\n",
    "    else:\n",
    "        print(\"Retain H0,There is no relationship between 2 categorical variables\")\n",
    "\n",
    "    if p_value<=alpha:\n",
    "        print(\"Reject H0,There is a relationship between 2 categorical variables\")\n",
    "    else:\n",
    "        print(\"Retain H0,There is no relationship between 2 categorical variables\")"
   ]
  },
  {
   "cell_type": "code",
   "execution_count": 28,
   "metadata": {
    "colab": {
     "base_uri": "https://localhost:8080/"
    },
    "execution": {
     "iopub.execute_input": "2021-07-29T04:32:41.203748Z",
     "iopub.status.busy": "2021-07-29T04:32:41.203050Z",
     "iopub.status.idle": "2021-07-29T04:32:44.812596Z",
     "shell.execute_reply": "2021-07-29T04:32:44.811410Z",
     "shell.execute_reply.started": "2021-07-29T04:32:41.203701Z"
    },
    "id": "-Z6tR1WYoI0B",
    "outputId": "762e046c-b6d0-445e-8c07-183e18df1495"
   },
   "outputs": [
    {
     "name": "stdout",
     "output_type": "stream",
     "text": [
      "chii square test on:  jobType    degree \n",
      "\n",
      "Degree of Freedom:  28\n",
      "Significance level:  0.05\n",
      "chi-square statistic:  50117.72406771936\n",
      "critical_value: 41.33713815142739\n",
      "p-value: 0.0\n",
      "Reject H0,There is a relationship between 2 categorical variables\n",
      "Reject H0,There is a relationship between 2 categorical variables\n",
      "....................................................................,\n",
      "\n",
      "chii square test on:  jobType    major \n",
      "\n",
      "Degree of Freedom:  56\n",
      "Significance level:  0.05\n",
      "chi-square statistic:  16703.025256041707\n",
      "critical_value: 74.46832415930936\n",
      "p-value: 0.0\n",
      "Reject H0,There is a relationship between 2 categorical variables\n",
      "Reject H0,There is a relationship between 2 categorical variables\n",
      "....................................................................,\n",
      "\n",
      "chii square test on:  jobType    industry \n",
      "\n",
      "Degree of Freedom:  42\n",
      "Significance level:  0.05\n",
      "chi-square statistic:  14.913329934821567\n",
      "critical_value: 58.12403768086803\n",
      "p-value: 0.9999643570205455\n",
      "Retain H0,There is no relationship between 2 categorical variables\n",
      "Retain H0,There is no relationship between 2 categorical variables\n",
      "....................................................................,\n",
      "\n",
      "chii square test on:  degree    jobType \n",
      "\n",
      "Degree of Freedom:  28\n",
      "Significance level:  0.05\n",
      "chi-square statistic:  5701.676800515897\n",
      "critical_value: 41.33713815142739\n",
      "p-value: 0.0\n",
      "Reject H0,There is a relationship between 2 categorical variables\n",
      "Reject H0,There is a relationship between 2 categorical variables\n",
      "....................................................................,\n",
      "\n",
      "chii square test on:  degree    major \n",
      "\n",
      "Degree of Freedom:  32\n",
      "Significance level:  0.05\n",
      "chi-square statistic:  105272.66563054165\n",
      "critical_value: 46.19425952027847\n",
      "p-value: 0.0\n",
      "Reject H0,There is a relationship between 2 categorical variables\n",
      "Reject H0,There is a relationship between 2 categorical variables\n",
      "....................................................................,\n",
      "\n",
      "chii square test on:  degree    industry \n",
      "\n",
      "Degree of Freedom:  24\n",
      "Significance level:  0.05\n",
      "chi-square statistic:  8.257076183306744\n",
      "critical_value: 36.41502850180731\n",
      "p-value: 0.9988079081041684\n",
      "Retain H0,There is no relationship between 2 categorical variables\n",
      "Retain H0,There is no relationship between 2 categorical variables\n",
      "....................................................................,\n",
      "\n",
      "chii square test on:  major    jobType \n",
      "\n",
      "Degree of Freedom:  56\n",
      "Significance level:  0.05\n",
      "chi-square statistic:  4496.503699312424\n",
      "critical_value: 74.46832415930936\n",
      "p-value: 0.0\n",
      "Reject H0,There is a relationship between 2 categorical variables\n",
      "Reject H0,There is a relationship between 2 categorical variables\n",
      "....................................................................,\n",
      "\n",
      "chii square test on:  major    degree \n",
      "\n",
      "Degree of Freedom:  32\n",
      "Significance level:  0.05\n",
      "chi-square statistic:  249310.28671089053\n",
      "critical_value: 46.19425952027847\n",
      "p-value: 0.0\n",
      "Reject H0,There is a relationship between 2 categorical variables\n",
      "Reject H0,There is a relationship between 2 categorical variables\n",
      "....................................................................,\n",
      "\n",
      "chii square test on:  major    industry \n",
      "\n",
      "Degree of Freedom:  48\n",
      "Significance level:  0.05\n",
      "chi-square statistic:  13.874149773597367\n",
      "critical_value: 65.17076890356982\n",
      "p-value: 0.9999996676173925\n",
      "Retain H0,There is no relationship between 2 categorical variables\n",
      "Retain H0,There is no relationship between 2 categorical variables\n",
      "....................................................................,\n",
      "\n",
      "chii square test on:  industry    jobType \n",
      "\n",
      "Degree of Freedom:  42\n",
      "Significance level:  0.05\n",
      "chi-square statistic:  10.488137063860552\n",
      "critical_value: 58.12403768086803\n",
      "p-value: 0.9999998247205845\n",
      "Retain H0,There is no relationship between 2 categorical variables\n",
      "Retain H0,There is no relationship between 2 categorical variables\n",
      "....................................................................,\n",
      "\n",
      "chii square test on:  industry    degree \n",
      "\n",
      "Degree of Freedom:  24\n",
      "Significance level:  0.05\n",
      "chi-square statistic:  8.54016212938535\n",
      "critical_value: 36.41502850180731\n",
      "p-value: 0.9984262482278145\n",
      "Retain H0,There is no relationship between 2 categorical variables\n",
      "Retain H0,There is no relationship between 2 categorical variables\n",
      "....................................................................,\n",
      "\n",
      "chii square test on:  industry    major \n",
      "\n",
      "Degree of Freedom:  48\n",
      "Significance level:  0.05\n",
      "chi-square statistic:  12.278710288535294\n",
      "critical_value: 65.17076890356982\n",
      "p-value: 0.9999999622723432\n",
      "Retain H0,There is no relationship between 2 categorical variables\n",
      "Retain H0,There is no relationship between 2 categorical variables\n",
      "....................................................................,\n",
      "\n"
     ]
    }
   ],
   "source": [
    "# looping on categorical data list and use function for performing chi-square test on columns from dataset\n",
    "\n",
    "for x in categorical_column:\n",
    "    for i in categorical_column:\n",
    "        if i != x:\n",
    "            print('chii square test on: ', x ,\"  \", i,'\\n')\n",
    "            perform_chi_square_test(x,i)\n",
    "            print(\"....................................................................,\\n\")"
   ]
  },
  {
   "cell_type": "markdown",
   "metadata": {
    "id": "AZHW1X6c-xDj"
   },
   "source": [
    "From above chi-square test:\n",
    "\n",
    "- correlated variables:\n",
    "\n",
    "  1. jobtype and degree\n",
    "  2. jobtype and major\n",
    "  3. degree and major\n"
   ]
  },
  {
   "cell_type": "markdown",
   "metadata": {
    "id": "Gp3pBTCaoI0B"
   },
   "source": [
    "## Scatter Plot"
   ]
  },
  {
   "cell_type": "code",
   "execution_count": 29,
   "metadata": {
    "colab": {
     "base_uri": "https://localhost:8080/",
     "height": 1000
    },
    "execution": {
     "iopub.execute_input": "2021-07-29T04:33:02.678682Z",
     "iopub.status.busy": "2021-07-29T04:33:02.678212Z",
     "iopub.status.idle": "2021-07-29T04:33:14.539306Z",
     "shell.execute_reply": "2021-07-29T04:33:14.538447Z",
     "shell.execute_reply.started": "2021-07-29T04:33:02.678641Z"
    },
    "id": "Lul6znDSoI0B",
    "outputId": "20fb7b87-9e4a-4082-b299-35c6dee82dbe"
   },
   "outputs": [
    {
     "data": {
      "image/png": "[encoded data removed]",
      "text/plain": [
       "<Figure size 432x288 with 1 Axes>"
      ]
     },
     "metadata": {
      "needs_background": "light"
     },
     "output_type": "display_data"
    },
    {
     "data": {
      "image/png": "[encoded data removed]",
      "text/plain": [
       "<Figure size 432x288 with 1 Axes>"
      ]
     },
     "metadata": {
      "needs_background": "light"
     },
     "output_type": "display_data"
    },
    {
     "data": {
      "image/png": "[encoded data removed]",
      "text/plain": [
       "<Figure size 432x288 with 1 Axes>"
      ]
     },
     "metadata": {
      "needs_background": "light"
     },
     "output_type": "display_data"
    },
    {
     "data": {
      "image/png": "[encoded data removed]",
      "text/plain": [
       "<Figure size 432x288 with 1 Axes>"
      ]
     },
     "metadata": {
      "needs_background": "light"
     },
     "output_type": "display_data"
    },
    {
     "data": {
      "image/png": "[encoded data removed]",
      "text/plain": [
       "<Figure size 432x288 with 1 Axes>"
      ]
     },
     "metadata": {
      "needs_background": "light"
     },
     "output_type": "display_data"
    },
    {
     "data": {
      "image/png": "[encoded data removed]",
      "text/plain": [
       "<Figure size 432x288 with 1 Axes>"
      ]
     },
     "metadata": {
      "needs_background": "light"
     },
     "output_type": "display_data"
    }
   ],
   "source": [
    "# Scatter plot using matplotlib \n",
    "# create function for ploting scatterplot between two columns of dataset\n",
    "def plot_scatter(x, y):\n",
    "    plt.figure()\n",
    "    plt.xlabel(x)\n",
    "    plt.ylabel(y)\n",
    "    plt.scatter(train_data[x],train_data[y])\n",
    "    plt.show()\n",
    "# Loop through the different columns \n",
    "for i in numerical_column:\n",
    "    for j in numerical_column:\n",
    "        if i != j:\n",
    "            plot_scatter(i,j)"
   ]
  },
  {
   "cell_type": "markdown",
   "metadata": {
    "id": "iLU-MyIx_4X5"
   },
   "source": [
    "From above scatter plot\n",
    "\n",
    "1. Increase in value on yearsExperience axis results in increase of values on salary axis. That is they are positively correlated.\n",
    "\n",
    "2. Increase in value on \n",
    "milesFromMetropolis axis results in decrease of values on salary axis. That is they are negatively correlated.\n",
    "\n",
    "2. There is no change in values of yearExperience vs milesFromMetropolis graph. That is there is no correlation between these variables."
   ]
  },
  {
   "cell_type": "markdown",
   "metadata": {
    "id": "iPBbMnO6oI0B"
   },
   "source": [
    "## Histogram"
   ]
  },
  {
   "cell_type": "code",
   "execution_count": 30,
   "metadata": {
    "colab": {
     "base_uri": "https://localhost:8080/",
     "height": 586
    },
    "execution": {
     "iopub.execute_input": "2021-07-29T04:33:33.553202Z",
     "iopub.status.busy": "2021-07-29T04:33:33.552507Z",
     "iopub.status.idle": "2021-07-29T04:33:34.373110Z",
     "shell.execute_reply": "2021-07-29T04:33:34.371642Z",
     "shell.execute_reply.started": "2021-07-29T04:33:33.553159Z"
    },
    "id": "mTzS4Po-oI0C",
    "outputId": "22eb0339-4d1e-4544-9032-341ce2c8779e"
   },
   "outputs": [
    {
     "data": {
      "text/plain": [
       "array([[<AxesSubplot:title={'center':'yearsExperience'}>,\n",
       "        <AxesSubplot:title={'center':'milesFromMetropolis'}>],\n",
       "       [<AxesSubplot:title={'center':'salary'}>, <AxesSubplot:>]],\n",
       "      dtype=object)"
      ]
     },
     "execution_count": 30,
     "metadata": {},
     "output_type": "execute_result"
    },
    {
     "data": {
      "image/png": "[encoded data removed]",
      "text/plain": [
       "<Figure size 864x720 with 4 Axes>"
      ]
     },
     "metadata": {
      "needs_background": "light"
     },
     "output_type": "display_data"
    }
   ],
   "source": [
    "# Histogram using pandas \n",
    "train_data.hist(figsize=(12,10))"
   ]
  },
  {
   "cell_type": "markdown",
   "metadata": {
    "id": "s9GyveWbCRKz"
   },
   "source": [
    "From the above histogram\n",
    "\n",
    "1. yearsExperience data distribution is symmetric.\n",
    "\n",
    "2. milesFromMetropolis data distribution is symmetric.\n",
    "\n",
    "3. salary data distribution is symmetric, unimodel (it has only one peak in distribution)\n"
   ]
  },
  {
   "cell_type": "markdown",
   "metadata": {
    "id": "B161-7ksEHt_"
   },
   "source": [
    "### Distribution of the Categorical variables using Bar plot and groupby operation"
   ]
  },
  {
   "cell_type": "code",
   "execution_count": 31,
   "metadata": {
    "colab": {
     "base_uri": "https://localhost:8080/",
     "height": 587
    },
    "id": "8humqwx9E5n4",
    "outputId": "257b39eb-b58a-4923-aa32-0456294111b9"
   },
   "outputs": [
    {
     "data": {
      "text/plain": [
       "<AxesSubplot:xlabel='jobType'>"
      ]
     },
     "execution_count": 31,
     "metadata": {},
     "output_type": "execute_result"
    },
    {
     "data": {
      "image/png": "[encoded data removed]",
      "text/plain": [
       "<Figure size 864x432 with 1 Axes>"
      ]
     },
     "metadata": {
      "needs_background": "light"
     },
     "output_type": "display_data"
    }
   ],
   "source": [
    "# goup data by jobType and plot count plot\n",
    "train_data.groupby('jobType').count().plot(kind='bar',figsize=(12,6))"
   ]
  },
  {
   "cell_type": "markdown",
   "metadata": {
    "id": "RITfdNgXHfdw"
   },
   "source": [
    "from above graph:\n",
    "1. All data for each jobType is distributed equally."
   ]
  },
  {
   "cell_type": "code",
   "execution_count": 32,
   "metadata": {
    "colab": {
     "base_uri": "https://localhost:8080/",
     "height": 576
    },
    "id": "okV3m4xOE413",
    "outputId": "e4edc1d6-3a15-4fdc-db88-d251cd305c22"
   },
   "outputs": [
    {
     "data": {
      "text/plain": [
       "<AxesSubplot:xlabel='degree'>"
      ]
     },
     "execution_count": 32,
     "metadata": {},
     "output_type": "execute_result"
    },
    {
     "data": {
      "image/png": "[encoded data removed]",
      "text/plain": [
       "<Figure size 864x576 with 1 Axes>"
      ]
     },
     "metadata": {
      "needs_background": "light"
     },
     "output_type": "display_data"
    }
   ],
   "source": [
    "# goup data by degree and plot count plot\n",
    "train_data.groupby('degree').count().plot(kind='bar',figsize=(12,8))"
   ]
  },
  {
   "cell_type": "markdown",
   "metadata": {
    "id": "0b-gXq7GHvQm"
   },
   "source": [
    "From above graph:\n",
    "\n",
    "1. All data for BACHELORS, DOCTORAL, MASTERS are equally distributed.\n",
    "\n",
    "2. All data for HIGH_SCHOOL, NONE are equally distributed.\n",
    "\n",
    "3. Here the data distribution between group of BACHELORS, DOCTORAL, MASTERS is less than data distribution for group HIGH_SCHOOL, NONE"
   ]
  },
  {
   "cell_type": "code",
   "execution_count": 33,
   "metadata": {
    "colab": {
     "base_uri": "https://localhost:8080/",
     "height": 573
    },
    "id": "JMS3njhUE4LN",
    "outputId": "0e317a45-6c73-45a0-cb65-70aa41f1ad02"
   },
   "outputs": [
    {
     "data": {
      "text/plain": [
       "<AxesSubplot:xlabel='major'>"
      ]
     },
     "execution_count": 33,
     "metadata": {},
     "output_type": "execute_result"
    },
    {
     "data": {
      "image/png": "[encoded data removed]",
      "text/plain": [
       "<Figure size 864x576 with 1 Axes>"
      ]
     },
     "metadata": {
      "needs_background": "light"
     },
     "output_type": "display_data"
    }
   ],
   "source": [
    "# goup data by major and plot count plot\n",
    "train_data.groupby('major').count().plot(kind='bar',figsize=(12,8))"
   ]
  },
  {
   "cell_type": "markdown",
   "metadata": {
    "id": "2NQCsoSnJgAs"
   },
   "source": [
    "From above graph:\n",
    "\n",
    "1. Except \"NONE\" all data for each major are equally distributed.\n",
    "\n",
    "2. There is large distribution of data for major NONE as compared to other major's\n"
   ]
  },
  {
   "cell_type": "code",
   "execution_count": 34,
   "metadata": {
    "colab": {
     "base_uri": "https://localhost:8080/",
     "height": 562
    },
    "id": "KfcXXmCTE_V0",
    "outputId": "84c060af-7de4-4481-94d1-e14834391222"
   },
   "outputs": [
    {
     "data": {
      "text/plain": [
       "<AxesSubplot:xlabel='industry'>"
      ]
     },
     "execution_count": 34,
     "metadata": {},
     "output_type": "execute_result"
    },
    {
     "data": {
      "image/png": "[encoded data removed]",
      "text/plain": [
       "<Figure size 864x576 with 1 Axes>"
      ]
     },
     "metadata": {
      "needs_background": "light"
     },
     "output_type": "display_data"
    }
   ],
   "source": [
    "# goup data by industry and plot count plot\n",
    "train_data.groupby('industry').count().plot(kind='bar',figsize=(12,8))"
   ]
  },
  {
   "cell_type": "markdown",
   "metadata": {
    "id": "c5z71klwKRR_"
   },
   "source": [
    "from above graph:\n",
    "1. All data for each industry is distributed equally."
   ]
  },
  {
   "cell_type": "markdown",
   "metadata": {
    "id": "cNMgZ-bpoI0C"
   },
   "source": [
    "## Box Plot"
   ]
  },
  {
   "cell_type": "code",
   "execution_count": 35,
   "metadata": {
    "colab": {
     "base_uri": "https://localhost:8080/",
     "height": 609
    },
    "execution": {
     "iopub.execute_input": "2021-07-29T04:34:15.417108Z",
     "iopub.status.busy": "2021-07-29T04:34:15.416608Z",
     "iopub.status.idle": "2021-07-29T04:34:20.389604Z",
     "shell.execute_reply": "2021-07-29T04:34:20.388239Z",
     "shell.execute_reply.started": "2021-07-29T04:34:15.417063Z"
    },
    "id": "ZEGifbDioI0D",
    "outputId": "9f4543be-79ab-41e4-ae08-5d057199de4a"
   },
   "outputs": [
    {
     "data": {
      "text/plain": [
       "<AxesSubplot:>"
      ]
     },
     "execution_count": 35,
     "metadata": {},
     "output_type": "execute_result"
    },
    {
     "data": {
      "image/png": "[encoded data removed]",
      "text/plain": [
       "<Figure size 432x288 with 1 Axes>"
      ]
     },
     "metadata": {
      "needs_background": "light"
     },
     "output_type": "display_data"
    }
   ],
   "source": [
    "# box plot for yearsExperience column\n",
    "train_data.boxplot(column='yearsExperience',figsize=(6,4))"
   ]
  },
  {
   "cell_type": "markdown",
   "metadata": {
    "id": "eRf3_KaVMhng"
   },
   "source": [
    "from above box plot graph:\n",
    "\n",
    "- yearsExperience\n",
    "  1. 25% of employees from dataset has yearExperience of between range 0 to 6.\n",
    "  2. 25% of employee has yearExperience between range 6 to 12.\n",
    "  3. 25% of employee has yearExperience between range 12 to 18.\n",
    "  4. 25% of employee has yearExperience between range 18 to 24"
   ]
  },
  {
   "cell_type": "code",
   "execution_count": 36,
   "metadata": {
    "colab": {
     "base_uri": "https://localhost:8080/",
     "height": 609
    },
    "id": "dyEXilQHP9Jw",
    "outputId": "8164ef05-99c9-47a7-a5cd-d16cb1886048"
   },
   "outputs": [
    {
     "data": {
      "text/plain": [
       "<AxesSubplot:>"
      ]
     },
     "execution_count": 36,
     "metadata": {},
     "output_type": "execute_result"
    },
    {
     "data": {
      "image/png": "[encoded data removed]",
      "text/plain": [
       "<Figure size 432x288 with 1 Axes>"
      ]
     },
     "metadata": {
      "needs_background": "light"
     },
     "output_type": "display_data"
    }
   ],
   "source": [
    "# box plot for milesFromMetropolis column\n",
    "train_data.boxplot(column='milesFromMetropolis',figsize=(6,4))"
   ]
  },
  {
   "cell_type": "markdown",
   "metadata": {
    "id": "rqtFUP0hP8Fj"
   },
   "source": [
    "from above box plot graph:\n",
    "\n",
    "- Miles from Metropolis\n",
    "  1. 25% of employees from dataset has value of milesFromMetropolis between range 0 to 24.\n",
    "  2. 25% of employee has value of milesFromMetropolis between range 24 to 52.\n",
    "  3. 25% of employee has value of milesFromMetropolis between range 52 to 76.\n",
    "  4. 25% of employee has value of milesFromMetropolis between range 76 to 100"
   ]
  },
  {
   "cell_type": "code",
   "execution_count": 37,
   "metadata": {
    "colab": {
     "base_uri": "https://localhost:8080/",
     "height": 609
    },
    "id": "AWG2gpBVRN-r",
    "outputId": "d6d6d4bc-4496-4003-ceef-1d75a19b9b8d"
   },
   "outputs": [
    {
     "data": {
      "text/plain": [
       "<AxesSubplot:>"
      ]
     },
     "execution_count": 37,
     "metadata": {},
     "output_type": "execute_result"
    },
    {
     "data": {
      "image/png": "[encoded data removed]",
      "text/plain": [
       "<Figure size 576x432 with 1 Axes>"
      ]
     },
     "metadata": {
      "needs_background": "light"
     },
     "output_type": "display_data"
    }
   ],
   "source": [
    "#box plot for salary column\n",
    "train_data.boxplot(column='salary', figsize=(8,6))"
   ]
  },
  {
   "cell_type": "markdown",
   "metadata": {
    "id": "asX7y3CWRLFz"
   },
   "source": [
    "from above box plot graph:\n",
    "\n",
    "- Salary\n",
    "  1. 25% of employees from dataset has value of salary between range 0 to 88.\n",
    "  2. 25% of employee has value of salary between range 88 to 120.\n",
    "  3. 25% of employee has value of salary between range 120 to 150.\n",
    "  4. 25% of employee has value of salary between range 150 to 300\n",
    "\n",
    "\n",
    "- The median salary is around 114"
   ]
  },
  {
   "cell_type": "markdown",
   "metadata": {},
   "source": [
    "### Some more visualization"
   ]
  },
  {
   "cell_type": "code",
   "execution_count": 38,
   "metadata": {
    "scrolled": false
   },
   "outputs": [
    {
     "data": {
      "text/plain": [
       "<AxesSubplot:xlabel='jobType', ylabel='salary'>"
      ]
     },
     "execution_count": 38,
     "metadata": {},
     "output_type": "execute_result"
    },
    {
     "data": {
      "image/png": "[encoded data removed]",
      "text/plain": [
       "<Figure size 720x288 with 1 Axes>"
      ]
     },
     "metadata": {
      "needs_background": "light"
     },
     "output_type": "display_data"
    }
   ],
   "source": [
    "## salary as per job type \n",
    "plt.figure(figsize=(10,4))\n",
    "sns.barplot(data = train_data,x='jobType',y='salary')"
   ]
  },
  {
   "cell_type": "markdown",
   "metadata": {},
   "source": [
    "The Average salary of CEO is highest. After that there is Average salary of CTO and CFO"
   ]
  },
  {
   "cell_type": "code",
   "execution_count": 39,
   "metadata": {
    "scrolled": true
   },
   "outputs": [
    {
     "data": {
      "text/plain": [
       "<AxesSubplot:xlabel='degree', ylabel='salary'>"
      ]
     },
     "execution_count": 39,
     "metadata": {},
     "output_type": "execute_result"
    },
    {
     "data": {
      "image/png": "[encoded data removed]",
      "text/plain": [
       "<Figure size 720x288 with 1 Axes>"
      ]
     },
     "metadata": {
      "needs_background": "light"
     },
     "output_type": "display_data"
    }
   ],
   "source": [
    "## salary as per degree \n",
    "plt.figure(figsize=(10,4))\n",
    "sns.barplot(data = train_data,x='degree',y='salary')"
   ]
  },
  {
   "cell_type": "markdown",
   "metadata": {},
   "source": [
    "The average salary of doctoral degree is highest"
   ]
  },
  {
   "cell_type": "code",
   "execution_count": 40,
   "metadata": {
    "scrolled": true
   },
   "outputs": [
    {
     "data": {
      "text/plain": [
       "<AxesSubplot:xlabel='major', ylabel='salary'>"
      ]
     },
     "execution_count": 40,
     "metadata": {},
     "output_type": "execute_result"
    },
    {
     "data": {
      "image/png": "[encoded data removed]",
      "text/plain": [
       "<Figure size 720x288 with 1 Axes>"
      ]
     },
     "metadata": {
      "needs_background": "light"
     },
     "output_type": "display_data"
    }
   ],
   "source": [
    "## salary as per major \n",
    "plt.figure(figsize=(10,4))\n",
    "sns.barplot(data = train_data,x='major',y='salary')"
   ]
  },
  {
   "cell_type": "markdown",
   "metadata": {},
   "source": [
    "As per major ,, if we exclude NONE type,, for all other majors the average salary is symmetrical"
   ]
  },
  {
   "cell_type": "code",
   "execution_count": 41,
   "metadata": {
    "scrolled": false
   },
   "outputs": [
    {
     "data": {
      "text/plain": [
       "<AxesSubplot:xlabel='industry', ylabel='salary'>"
      ]
     },
     "execution_count": 41,
     "metadata": {},
     "output_type": "execute_result"
    },
    {
     "data": {
      "image/png": "[encoded data removed]",
      "text/plain": [
       "<Figure size 720x288 with 1 Axes>"
      ]
     },
     "metadata": {
      "needs_background": "light"
     },
     "output_type": "display_data"
    }
   ],
   "source": [
    "## salary as per industry \n",
    "plt.figure(figsize=(10,4))\n",
    "sns.barplot(data = train_data,x='industry',y='salary')"
   ]
  },
  {
   "cell_type": "markdown",
   "metadata": {},
   "source": [
    "Average salary of Finance and oil industry is higher compared to others"
   ]
  },
  {
   "cell_type": "markdown",
   "metadata": {},
   "source": [
    "### Checking skewness of the target variable"
   ]
  },
  {
   "cell_type": "code",
   "execution_count": 46,
   "metadata": {},
   "outputs": [
    {
     "data": {
      "text/plain": [
       "<AxesSubplot:>"
      ]
     },
     "execution_count": 46,
     "metadata": {},
     "output_type": "execute_result"
    },
    {
     "data": {
      "image/png": "[encoded data removed]",
      "text/plain": [
       "<Figure size 576x432 with 1 Axes>"
      ]
     },
     "metadata": {
      "needs_background": "light"
     },
     "output_type": "display_data"
    }
   ],
   "source": [
    "train_data['salary'].hist(figsize=(8,6))"
   ]
  },
  {
   "cell_type": "code",
   "execution_count": 47,
   "metadata": {
    "scrolled": true
   },
   "outputs": [
    {
     "name": "stdout",
     "output_type": "stream",
     "text": [
      "0.346415074651208\n"
     ]
    }
   ],
   "source": [
    "print(train_data['salary'].skew())"
   ]
  },
  {
   "cell_type": "markdown",
   "metadata": {},
   "source": [
    "Target variable is normally distributed."
   ]
  },
  {
   "cell_type": "markdown",
   "metadata": {
    "id": "50HVkfLrV8Jy"
   },
   "source": [
    "## Variance inflation factor (VIF)"
   ]
  },
  {
   "cell_type": "code",
   "execution_count": 48,
   "metadata": {
    "colab": {
     "base_uri": "https://localhost:8080/"
    },
    "id": "U2to3wuHV53j",
    "outputId": "59515d7e-035f-4c22-aca9-38e04d6aa71a"
   },
   "outputs": [
    {
     "data": {
      "text/plain": [
       "['yearsExperience', 'milesFromMetropolis']"
      ]
     },
     "execution_count": 48,
     "metadata": {},
     "output_type": "execute_result"
    }
   ],
   "source": [
    "# creating a dataframe of just numerical values\n",
    "train_for_vif = train_data.drop(['jobType','degree','major','industry','salary'],axis = 1)\n",
    "\n",
    "# target values\n",
    "target = train_data['salary']\n",
    "\n",
    "# numerical values column names\n",
    "names = ['yearsExperience','milesFromMetropolis']\n",
    "train_for_vif.dropna(inplace=True)\n",
    "names"
   ]
  },
  {
   "cell_type": "code",
   "execution_count": 49,
   "metadata": {},
   "outputs": [
    {
     "data": {
      "text/plain": [
       "Index(['yearsExperience', 'milesFromMetropolis'], dtype='object')"
      ]
     },
     "execution_count": 49,
     "metadata": {},
     "output_type": "execute_result"
    }
   ],
   "source": [
    "train_for_vif.columns"
   ]
  },
  {
   "cell_type": "code",
   "execution_count": 50,
   "metadata": {
    "colab": {
     "base_uri": "https://localhost:8080/"
    },
    "id": "s4OlQ0SmYR-I",
    "outputId": "f101827e-365c-4cd4-9801-0c20c09dc78e"
   },
   "outputs": [
    {
     "name": "stdout",
     "output_type": "stream",
     "text": [
      "R Square value of yearsExperience columns is 0.55 keeping all other columns as features\n",
      "Variance inflation Factor of yearsExperience columns is 2.21 \n",
      "\n",
      "R Square value of milesFromMetropolis columns is 0.55 keeping all other columns as features\n",
      "Variance inflation Factor of milesFromMetropolis columns is 2.21 \n",
      "\n"
     ]
    }
   ],
   "source": [
    "# Calculating VIF for each feature.\n",
    "for i in range(0, len(names)):\n",
    "  # taking one column as target variable\n",
    "  y = train_for_vif.loc[:,train_for_vif.columns == names[i]]\n",
    "  \n",
    "  # taking all other remaining columns as fetaure variable\n",
    "  x = train_for_vif.loc[:,train_for_vif.columns != names[i]]\n",
    "  \n",
    "  # firting the OLS model on y and x\n",
    "  model = sm.OLS(y,x)\n",
    "  results = model.fit() \n",
    "  \n",
    "    # geting the r^2 value of results.\n",
    "  rsq = results.rsquared\n",
    "  \n",
    "  # calculating vif value\n",
    "  vif = round(1/(1-rsq),2)\n",
    "  \n",
    "  print(\"R Square value of {} columns is {} keeping all other columns as features\".format(names[i],(round(rsq, 2))))\n",
    "  print(\"Variance inflation Factor of {} columns is {} \\n\".format(names[i], vif))"
   ]
  },
  {
   "cell_type": "markdown",
   "metadata": {
    "id": "VgWYOixhe_RR"
   },
   "source": [
    "Observations:\n",
    "\n",
    "there is colinearity/multicolinearity between \n",
    "variables as the VIF value is almost upto 2.5\n",
    "\n",
    "1.  If we take the threshhold of VIF as 5 then there is not much multicolinearity of yearsExperience and milesFromMetropolis with other variables."
   ]
  },
  {
   "cell_type": "markdown",
   "metadata": {
    "id": "_gW9D8dEKOWL"
   },
   "source": [
    "## Since, there are no missing values and all the data are distributed equally. We can start converting the categorical values to numerical."
   ]
  },
  {
   "cell_type": "markdown",
   "metadata": {},
   "source": [
    "## Encoding"
   ]
  },
  {
   "cell_type": "code",
   "execution_count": 51,
   "metadata": {
    "id": "n6z-oSvxLgiL",
    "scrolled": true
   },
   "outputs": [
    {
     "data": {
      "text/html": [
       "<div>\n",
       "<style scoped>\n",
       "    .dataframe tbody tr th:only-of-type {\n",
       "        vertical-align: middle;\n",
       "    }\n",
       "\n",
       "    .dataframe tbody tr th {\n",
       "        vertical-align: top;\n",
       "    }\n",
       "\n",
       "    .dataframe thead th {\n",
       "        text-align: right;\n",
       "    }\n",
       "</style>\n",
       "<table border=\"1\" class=\"dataframe\">\n",
       "  <thead>\n",
       "    <tr style=\"text-align: right;\">\n",
       "      <th></th>\n",
       "      <th>jobType</th>\n",
       "      <th>degree</th>\n",
       "      <th>major</th>\n",
       "      <th>industry</th>\n",
       "      <th>yearsExperience</th>\n",
       "      <th>milesFromMetropolis</th>\n",
       "      <th>salary</th>\n",
       "    </tr>\n",
       "  </thead>\n",
       "  <tbody>\n",
       "    <tr>\n",
       "      <th>0</th>\n",
       "      <td>CFO</td>\n",
       "      <td>MASTERS</td>\n",
       "      <td>MATH</td>\n",
       "      <td>HEALTH</td>\n",
       "      <td>10</td>\n",
       "      <td>83</td>\n",
       "      <td>130</td>\n",
       "    </tr>\n",
       "    <tr>\n",
       "      <th>1</th>\n",
       "      <td>CEO</td>\n",
       "      <td>HIGH_SCHOOL</td>\n",
       "      <td>NONE</td>\n",
       "      <td>WEB</td>\n",
       "      <td>3</td>\n",
       "      <td>73</td>\n",
       "      <td>101</td>\n",
       "    </tr>\n",
       "    <tr>\n",
       "      <th>2</th>\n",
       "      <td>VICE_PRESIDENT</td>\n",
       "      <td>DOCTORAL</td>\n",
       "      <td>PHYSICS</td>\n",
       "      <td>HEALTH</td>\n",
       "      <td>10</td>\n",
       "      <td>38</td>\n",
       "      <td>137</td>\n",
       "    </tr>\n",
       "    <tr>\n",
       "      <th>3</th>\n",
       "      <td>MANAGER</td>\n",
       "      <td>DOCTORAL</td>\n",
       "      <td>CHEMISTRY</td>\n",
       "      <td>AUTO</td>\n",
       "      <td>8</td>\n",
       "      <td>17</td>\n",
       "      <td>142</td>\n",
       "    </tr>\n",
       "    <tr>\n",
       "      <th>4</th>\n",
       "      <td>VICE_PRESIDENT</td>\n",
       "      <td>BACHELORS</td>\n",
       "      <td>PHYSICS</td>\n",
       "      <td>FINANCE</td>\n",
       "      <td>8</td>\n",
       "      <td>16</td>\n",
       "      <td>163</td>\n",
       "    </tr>\n",
       "  </tbody>\n",
       "</table>\n",
       "</div>"
      ],
      "text/plain": [
       "          jobType       degree      major industry  yearsExperience   \n",
       "0             CFO      MASTERS       MATH   HEALTH               10  \\\n",
       "1             CEO  HIGH_SCHOOL       NONE      WEB                3   \n",
       "2  VICE_PRESIDENT     DOCTORAL    PHYSICS   HEALTH               10   \n",
       "3         MANAGER     DOCTORAL  CHEMISTRY     AUTO                8   \n",
       "4  VICE_PRESIDENT    BACHELORS    PHYSICS  FINANCE                8   \n",
       "\n",
       "   milesFromMetropolis  salary  \n",
       "0                   83     130  \n",
       "1                   73     101  \n",
       "2                   38     137  \n",
       "3                   17     142  \n",
       "4                   16     163  "
      ]
     },
     "execution_count": 51,
     "metadata": {},
     "output_type": "execute_result"
    }
   ],
   "source": [
    "# Importing OneHotEncoder for encoding the categorical data\n",
    "train_data.head()"
   ]
  },
  {
   "cell_type": "code",
   "execution_count": 52,
   "metadata": {
    "scrolled": true
   },
   "outputs": [],
   "source": [
    "## One hot encoding\n",
    "train_data = pd.get_dummies(train_data,columns=['major','industry','jobType','degree'])\n",
    "test_data = pd.get_dummies(test_data,columns=['major','industry','jobType','degree'])"
   ]
  },
  {
   "cell_type": "code",
   "execution_count": 53,
   "metadata": {
    "scrolled": true
   },
   "outputs": [
    {
     "data": {
      "text/html": [
       "<div>\n",
       "<style scoped>\n",
       "    .dataframe tbody tr th:only-of-type {\n",
       "        vertical-align: middle;\n",
       "    }\n",
       "\n",
       "    .dataframe tbody tr th {\n",
       "        vertical-align: top;\n",
       "    }\n",
       "\n",
       "    .dataframe thead th {\n",
       "        text-align: right;\n",
       "    }\n",
       "</style>\n",
       "<table border=\"1\" class=\"dataframe\">\n",
       "  <thead>\n",
       "    <tr style=\"text-align: right;\">\n",
       "      <th></th>\n",
       "      <th>yearsExperience</th>\n",
       "      <th>milesFromMetropolis</th>\n",
       "      <th>salary</th>\n",
       "      <th>major_BIOLOGY</th>\n",
       "      <th>major_BUSINESS</th>\n",
       "      <th>major_CHEMISTRY</th>\n",
       "      <th>major_COMPSCI</th>\n",
       "      <th>major_ENGINEERING</th>\n",
       "      <th>major_LITERATURE</th>\n",
       "      <th>major_MATH</th>\n",
       "      <th>...</th>\n",
       "      <th>jobType_JANITOR</th>\n",
       "      <th>jobType_JUNIOR</th>\n",
       "      <th>jobType_MANAGER</th>\n",
       "      <th>jobType_SENIOR</th>\n",
       "      <th>jobType_VICE_PRESIDENT</th>\n",
       "      <th>degree_BACHELORS</th>\n",
       "      <th>degree_DOCTORAL</th>\n",
       "      <th>degree_HIGH_SCHOOL</th>\n",
       "      <th>degree_MASTERS</th>\n",
       "      <th>degree_NONE</th>\n",
       "    </tr>\n",
       "  </thead>\n",
       "  <tbody>\n",
       "    <tr>\n",
       "      <th>0</th>\n",
       "      <td>10</td>\n",
       "      <td>83</td>\n",
       "      <td>130</td>\n",
       "      <td>False</td>\n",
       "      <td>False</td>\n",
       "      <td>False</td>\n",
       "      <td>False</td>\n",
       "      <td>False</td>\n",
       "      <td>False</td>\n",
       "      <td>True</td>\n",
       "      <td>...</td>\n",
       "      <td>False</td>\n",
       "      <td>False</td>\n",
       "      <td>False</td>\n",
       "      <td>False</td>\n",
       "      <td>False</td>\n",
       "      <td>False</td>\n",
       "      <td>False</td>\n",
       "      <td>False</td>\n",
       "      <td>True</td>\n",
       "      <td>False</td>\n",
       "    </tr>\n",
       "    <tr>\n",
       "      <th>1</th>\n",
       "      <td>3</td>\n",
       "      <td>73</td>\n",
       "      <td>101</td>\n",
       "      <td>False</td>\n",
       "      <td>False</td>\n",
       "      <td>False</td>\n",
       "      <td>False</td>\n",
       "      <td>False</td>\n",
       "      <td>False</td>\n",
       "      <td>False</td>\n",
       "      <td>...</td>\n",
       "      <td>False</td>\n",
       "      <td>False</td>\n",
       "      <td>False</td>\n",
       "      <td>False</td>\n",
       "      <td>False</td>\n",
       "      <td>False</td>\n",
       "      <td>False</td>\n",
       "      <td>True</td>\n",
       "      <td>False</td>\n",
       "      <td>False</td>\n",
       "    </tr>\n",
       "    <tr>\n",
       "      <th>2</th>\n",
       "      <td>10</td>\n",
       "      <td>38</td>\n",
       "      <td>137</td>\n",
       "      <td>False</td>\n",
       "      <td>False</td>\n",
       "      <td>False</td>\n",
       "      <td>False</td>\n",
       "      <td>False</td>\n",
       "      <td>False</td>\n",
       "      <td>False</td>\n",
       "      <td>...</td>\n",
       "      <td>False</td>\n",
       "      <td>False</td>\n",
       "      <td>False</td>\n",
       "      <td>False</td>\n",
       "      <td>True</td>\n",
       "      <td>False</td>\n",
       "      <td>True</td>\n",
       "      <td>False</td>\n",
       "      <td>False</td>\n",
       "      <td>False</td>\n",
       "    </tr>\n",
       "    <tr>\n",
       "      <th>3</th>\n",
       "      <td>8</td>\n",
       "      <td>17</td>\n",
       "      <td>142</td>\n",
       "      <td>False</td>\n",
       "      <td>False</td>\n",
       "      <td>True</td>\n",
       "      <td>False</td>\n",
       "      <td>False</td>\n",
       "      <td>False</td>\n",
       "      <td>False</td>\n",
       "      <td>...</td>\n",
       "      <td>False</td>\n",
       "      <td>False</td>\n",
       "      <td>True</td>\n",
       "      <td>False</td>\n",
       "      <td>False</td>\n",
       "      <td>False</td>\n",
       "      <td>True</td>\n",
       "      <td>False</td>\n",
       "      <td>False</td>\n",
       "      <td>False</td>\n",
       "    </tr>\n",
       "    <tr>\n",
       "      <th>4</th>\n",
       "      <td>8</td>\n",
       "      <td>16</td>\n",
       "      <td>163</td>\n",
       "      <td>False</td>\n",
       "      <td>False</td>\n",
       "      <td>False</td>\n",
       "      <td>False</td>\n",
       "      <td>False</td>\n",
       "      <td>False</td>\n",
       "      <td>False</td>\n",
       "      <td>...</td>\n",
       "      <td>False</td>\n",
       "      <td>False</td>\n",
       "      <td>False</td>\n",
       "      <td>False</td>\n",
       "      <td>True</td>\n",
       "      <td>True</td>\n",
       "      <td>False</td>\n",
       "      <td>False</td>\n",
       "      <td>False</td>\n",
       "      <td>False</td>\n",
       "    </tr>\n",
       "  </tbody>\n",
       "</table>\n",
       "<p>5 rows × 32 columns</p>\n",
       "</div>"
      ],
      "text/plain": [
       "   yearsExperience  milesFromMetropolis  salary  major_BIOLOGY   \n",
       "0               10                   83     130          False  \\\n",
       "1                3                   73     101          False   \n",
       "2               10                   38     137          False   \n",
       "3                8                   17     142          False   \n",
       "4                8                   16     163          False   \n",
       "\n",
       "   major_BUSINESS  major_CHEMISTRY  major_COMPSCI  major_ENGINEERING   \n",
       "0           False            False          False              False  \\\n",
       "1           False            False          False              False   \n",
       "2           False            False          False              False   \n",
       "3           False             True          False              False   \n",
       "4           False            False          False              False   \n",
       "\n",
       "   major_LITERATURE  major_MATH  ...  jobType_JANITOR  jobType_JUNIOR   \n",
       "0             False        True  ...            False           False  \\\n",
       "1             False       False  ...            False           False   \n",
       "2             False       False  ...            False           False   \n",
       "3             False       False  ...            False           False   \n",
       "4             False       False  ...            False           False   \n",
       "\n",
       "   jobType_MANAGER  jobType_SENIOR  jobType_VICE_PRESIDENT  degree_BACHELORS   \n",
       "0            False           False                   False             False  \\\n",
       "1            False           False                   False             False   \n",
       "2            False           False                    True             False   \n",
       "3             True           False                   False             False   \n",
       "4            False           False                    True              True   \n",
       "\n",
       "   degree_DOCTORAL  degree_HIGH_SCHOOL  degree_MASTERS  degree_NONE  \n",
       "0            False               False            True        False  \n",
       "1            False                True           False        False  \n",
       "2             True               False           False        False  \n",
       "3             True               False           False        False  \n",
       "4            False               False           False        False  \n",
       "\n",
       "[5 rows x 32 columns]"
      ]
     },
     "execution_count": 53,
     "metadata": {},
     "output_type": "execute_result"
    }
   ],
   "source": [
    "train_data.head()"
   ]
  },
  {
   "cell_type": "code",
   "execution_count": 54,
   "metadata": {},
   "outputs": [
    {
     "data": {
      "text/html": [
       "<div>\n",
       "<style scoped>\n",
       "    .dataframe tbody tr th:only-of-type {\n",
       "        vertical-align: middle;\n",
       "    }\n",
       "\n",
       "    .dataframe tbody tr th {\n",
       "        vertical-align: top;\n",
       "    }\n",
       "\n",
       "    .dataframe thead th {\n",
       "        text-align: right;\n",
       "    }\n",
       "</style>\n",
       "<table border=\"1\" class=\"dataframe\">\n",
       "  <thead>\n",
       "    <tr style=\"text-align: right;\">\n",
       "      <th></th>\n",
       "      <th>yearsExperience</th>\n",
       "      <th>milesFromMetropolis</th>\n",
       "      <th>major_BIOLOGY</th>\n",
       "      <th>major_BUSINESS</th>\n",
       "      <th>major_CHEMISTRY</th>\n",
       "      <th>major_COMPSCI</th>\n",
       "      <th>major_ENGINEERING</th>\n",
       "      <th>major_LITERATURE</th>\n",
       "      <th>major_MATH</th>\n",
       "      <th>major_NONE</th>\n",
       "      <th>...</th>\n",
       "      <th>jobType_JANITOR</th>\n",
       "      <th>jobType_JUNIOR</th>\n",
       "      <th>jobType_MANAGER</th>\n",
       "      <th>jobType_SENIOR</th>\n",
       "      <th>jobType_VICE_PRESIDENT</th>\n",
       "      <th>degree_BACHELORS</th>\n",
       "      <th>degree_DOCTORAL</th>\n",
       "      <th>degree_HIGH_SCHOOL</th>\n",
       "      <th>degree_MASTERS</th>\n",
       "      <th>degree_NONE</th>\n",
       "    </tr>\n",
       "  </thead>\n",
       "  <tbody>\n",
       "    <tr>\n",
       "      <th>0</th>\n",
       "      <td>22</td>\n",
       "      <td>73</td>\n",
       "      <td>False</td>\n",
       "      <td>False</td>\n",
       "      <td>False</td>\n",
       "      <td>False</td>\n",
       "      <td>False</td>\n",
       "      <td>False</td>\n",
       "      <td>False</td>\n",
       "      <td>True</td>\n",
       "      <td>...</td>\n",
       "      <td>False</td>\n",
       "      <td>False</td>\n",
       "      <td>True</td>\n",
       "      <td>False</td>\n",
       "      <td>False</td>\n",
       "      <td>False</td>\n",
       "      <td>False</td>\n",
       "      <td>True</td>\n",
       "      <td>False</td>\n",
       "      <td>False</td>\n",
       "    </tr>\n",
       "    <tr>\n",
       "      <th>1</th>\n",
       "      <td>20</td>\n",
       "      <td>47</td>\n",
       "      <td>False</td>\n",
       "      <td>False</td>\n",
       "      <td>False</td>\n",
       "      <td>False</td>\n",
       "      <td>False</td>\n",
       "      <td>False</td>\n",
       "      <td>False</td>\n",
       "      <td>True</td>\n",
       "      <td>...</td>\n",
       "      <td>False</td>\n",
       "      <td>True</td>\n",
       "      <td>False</td>\n",
       "      <td>False</td>\n",
       "      <td>False</td>\n",
       "      <td>False</td>\n",
       "      <td>False</td>\n",
       "      <td>False</td>\n",
       "      <td>False</td>\n",
       "      <td>True</td>\n",
       "    </tr>\n",
       "    <tr>\n",
       "      <th>2</th>\n",
       "      <td>17</td>\n",
       "      <td>9</td>\n",
       "      <td>True</td>\n",
       "      <td>False</td>\n",
       "      <td>False</td>\n",
       "      <td>False</td>\n",
       "      <td>False</td>\n",
       "      <td>False</td>\n",
       "      <td>False</td>\n",
       "      <td>False</td>\n",
       "      <td>...</td>\n",
       "      <td>False</td>\n",
       "      <td>False</td>\n",
       "      <td>False</td>\n",
       "      <td>False</td>\n",
       "      <td>False</td>\n",
       "      <td>False</td>\n",
       "      <td>False</td>\n",
       "      <td>False</td>\n",
       "      <td>True</td>\n",
       "      <td>False</td>\n",
       "    </tr>\n",
       "    <tr>\n",
       "      <th>3</th>\n",
       "      <td>14</td>\n",
       "      <td>96</td>\n",
       "      <td>False</td>\n",
       "      <td>False</td>\n",
       "      <td>False</td>\n",
       "      <td>False</td>\n",
       "      <td>False</td>\n",
       "      <td>False</td>\n",
       "      <td>False</td>\n",
       "      <td>True</td>\n",
       "      <td>...</td>\n",
       "      <td>False</td>\n",
       "      <td>False</td>\n",
       "      <td>True</td>\n",
       "      <td>False</td>\n",
       "      <td>False</td>\n",
       "      <td>False</td>\n",
       "      <td>False</td>\n",
       "      <td>True</td>\n",
       "      <td>False</td>\n",
       "      <td>False</td>\n",
       "    </tr>\n",
       "    <tr>\n",
       "      <th>4</th>\n",
       "      <td>10</td>\n",
       "      <td>44</td>\n",
       "      <td>True</td>\n",
       "      <td>False</td>\n",
       "      <td>False</td>\n",
       "      <td>False</td>\n",
       "      <td>False</td>\n",
       "      <td>False</td>\n",
       "      <td>False</td>\n",
       "      <td>False</td>\n",
       "      <td>...</td>\n",
       "      <td>False</td>\n",
       "      <td>True</td>\n",
       "      <td>False</td>\n",
       "      <td>False</td>\n",
       "      <td>False</td>\n",
       "      <td>False</td>\n",
       "      <td>True</td>\n",
       "      <td>False</td>\n",
       "      <td>False</td>\n",
       "      <td>False</td>\n",
       "    </tr>\n",
       "  </tbody>\n",
       "</table>\n",
       "<p>5 rows × 31 columns</p>\n",
       "</div>"
      ],
      "text/plain": [
       "   yearsExperience  milesFromMetropolis  major_BIOLOGY  major_BUSINESS   \n",
       "0               22                   73          False           False  \\\n",
       "1               20                   47          False           False   \n",
       "2               17                    9           True           False   \n",
       "3               14                   96          False           False   \n",
       "4               10                   44           True           False   \n",
       "\n",
       "   major_CHEMISTRY  major_COMPSCI  major_ENGINEERING  major_LITERATURE   \n",
       "0            False          False              False             False  \\\n",
       "1            False          False              False             False   \n",
       "2            False          False              False             False   \n",
       "3            False          False              False             False   \n",
       "4            False          False              False             False   \n",
       "\n",
       "   major_MATH  major_NONE  ...  jobType_JANITOR  jobType_JUNIOR   \n",
       "0       False        True  ...            False           False  \\\n",
       "1       False        True  ...            False            True   \n",
       "2       False       False  ...            False           False   \n",
       "3       False        True  ...            False           False   \n",
       "4       False       False  ...            False            True   \n",
       "\n",
       "   jobType_MANAGER  jobType_SENIOR  jobType_VICE_PRESIDENT  degree_BACHELORS   \n",
       "0             True           False                   False             False  \\\n",
       "1            False           False                   False             False   \n",
       "2            False           False                   False             False   \n",
       "3             True           False                   False             False   \n",
       "4            False           False                   False             False   \n",
       "\n",
       "   degree_DOCTORAL  degree_HIGH_SCHOOL  degree_MASTERS  degree_NONE  \n",
       "0            False                True           False        False  \n",
       "1            False               False           False         True  \n",
       "2            False               False            True        False  \n",
       "3            False                True           False        False  \n",
       "4             True               False           False        False  \n",
       "\n",
       "[5 rows x 31 columns]"
      ]
     },
     "execution_count": 54,
     "metadata": {},
     "output_type": "execute_result"
    }
   ],
   "source": [
    "test_data.head()"
   ]
  },
  {
   "cell_type": "code",
   "execution_count": 55,
   "metadata": {
    "execution": {
     "iopub.execute_input": "2021-07-22T09:50:53.943547Z",
     "iopub.status.busy": "2021-07-22T09:50:53.943151Z",
     "iopub.status.idle": "2021-07-22T09:50:53.989223Z",
     "shell.execute_reply": "2021-07-22T09:50:53.988223Z",
     "shell.execute_reply.started": "2021-07-22T09:50:53.943505Z"
    },
    "id": "puYpPEERoI0M"
   },
   "outputs": [],
   "source": [
    "# Split the labels and the target\n",
    "train_X = train_data.drop(['salary'],axis=1)\n",
    "train_Y = train_data['salary']"
   ]
  },
  {
   "cell_type": "code",
   "execution_count": 56,
   "metadata": {
    "colab": {
     "base_uri": "https://localhost:8080/"
    },
    "execution": {
     "iopub.execute_input": "2021-07-22T09:50:54.009142Z",
     "iopub.status.busy": "2021-07-22T09:50:54.008756Z",
     "iopub.status.idle": "2021-07-22T09:50:54.020799Z",
     "shell.execute_reply": "2021-07-22T09:50:54.01981Z",
     "shell.execute_reply.started": "2021-07-22T09:50:54.009101Z"
    },
    "id": "B1dO18e6oI0M",
    "outputId": "47bbf305-d24c-41a6-f0c3-11d493c765b8"
   },
   "outputs": [
    {
     "data": {
      "text/plain": [
       "0    130\n",
       "1    101\n",
       "2    137\n",
       "3    142\n",
       "4    163\n",
       "Name: salary, dtype: int64"
      ]
     },
     "execution_count": 56,
     "metadata": {},
     "output_type": "execute_result"
    }
   ],
   "source": [
    "# Target\n",
    "train_Y.head()"
   ]
  },
  {
   "cell_type": "code",
   "execution_count": 57,
   "metadata": {
    "execution": {
     "iopub.execute_input": "2021-07-22T09:50:56.014417Z",
     "iopub.status.busy": "2021-07-22T09:50:56.014012Z",
     "iopub.status.idle": "2021-07-22T09:50:56.499433Z",
     "shell.execute_reply": "2021-07-22T09:50:56.498399Z",
     "shell.execute_reply.started": "2021-07-22T09:50:56.014375Z"
    },
    "id": "SBErCilgoI0N"
   },
   "outputs": [],
   "source": [
    "#importing Sklearn library for spliting train dataset into train and test dataset\n",
    "from sklearn.model_selection import train_test_split\n",
    "X_train, X_test, Y_train, Y_test = train_test_split(train_X.iloc[1:100000],train_Y.iloc[1:100000],test_size=0.2,random_state=42)"
   ]
  },
  {
   "cell_type": "markdown",
   "metadata": {
    "id": "oS9ZRv_5seB3"
   },
   "source": [
    "## Scaling"
   ]
  },
  {
   "cell_type": "code",
   "execution_count": 58,
   "metadata": {
    "id": "-wHvD9sCseB4"
   },
   "outputs": [],
   "source": [
    "from sklearn.preprocessing import MinMaxScaler\n",
    "scaler = MinMaxScaler()\n",
    "\n",
    "X_train[['yearsExperience','milesFromMetropolis']] = scaler.fit_transform(X_train[['yearsExperience','milesFromMetropolis']])\n",
    "X_test[['yearsExperience','milesFromMetropolis']] = scaler.transform(X_test[['yearsExperience','milesFromMetropolis']])"
   ]
  },
  {
   "cell_type": "markdown",
   "metadata": {},
   "source": [
    "### OLS Model"
   ]
  },
  {
   "cell_type": "code",
   "execution_count": 59,
   "metadata": {},
   "outputs": [
    {
     "name": "stdout",
     "output_type": "stream",
     "text": [
      "                            OLS Regression Results                            \n",
      "==============================================================================\n",
      "Dep. Variable:                 salary   R-squared:                       0.744\n",
      "Model:                            OLS   Adj. R-squared:                  0.744\n",
      "Method:                 Least Squares   F-statistic:                 1.074e+05\n",
      "Date:                Wed, 21 Jun 2023   Prob (F-statistic):               0.00\n",
      "Time:                        09:02:04   Log-Likelihood:            -4.3949e+06\n",
      "No. Observations:             1000000   AIC:                         8.790e+06\n",
      "Df Residuals:                  999972   BIC:                         8.790e+06\n",
      "Df Model:                          27                                         \n",
      "Covariance Type:            nonrobust                                         \n",
      "==========================================================================================\n",
      "                             coef    std err          t      P>|t|      [0.025      0.975]\n",
      "------------------------------------------------------------------------------------------\n",
      "const                  -2.896e+09   3.12e+10     -0.093      0.926   -6.41e+10    5.83e+10\n",
      "yearsExperience            2.0101      0.003    739.370      0.000       2.005       2.015\n",
      "milesFromMetropolis       -0.3995      0.001   -588.374      0.000      -0.401      -0.398\n",
      "major_BIOLOGY            4.92e+08   5.31e+09      0.093      0.926   -9.91e+09    1.09e+10\n",
      "major_BUSINESS           4.92e+08   5.31e+09      0.093      0.926   -9.91e+09    1.09e+10\n",
      "major_CHEMISTRY          4.92e+08   5.31e+09      0.093      0.926   -9.91e+09    1.09e+10\n",
      "major_COMPSCI            4.92e+08   5.31e+09      0.093      0.926   -9.91e+09    1.09e+10\n",
      "major_ENGINEERING        4.92e+08   5.31e+09      0.093      0.926   -9.91e+09    1.09e+10\n",
      "major_LITERATURE         4.92e+08   5.31e+09      0.093      0.926   -9.91e+09    1.09e+10\n",
      "major_MATH               4.92e+08   5.31e+09      0.093      0.926   -9.91e+09    1.09e+10\n",
      "major_NONE               4.92e+08   5.31e+09      0.093      0.926   -9.91e+09    1.09e+10\n",
      "major_PHYSICS            4.92e+08   5.31e+09      0.093      0.926   -9.91e+09    1.09e+10\n",
      "industry_AUTO           7.878e+08    8.5e+09      0.093      0.926   -1.59e+10    1.74e+10\n",
      "industry_EDUCATION      7.878e+08    8.5e+09      0.093      0.926   -1.59e+10    1.74e+10\n",
      "industry_FINANCE        7.878e+08    8.5e+09      0.093      0.926   -1.59e+10    1.74e+10\n",
      "industry_HEALTH         7.878e+08    8.5e+09      0.093      0.926   -1.59e+10    1.74e+10\n",
      "industry_OIL            7.878e+08    8.5e+09      0.093      0.926   -1.59e+10    1.74e+10\n",
      "industry_SERVICE        7.878e+08    8.5e+09      0.093      0.926   -1.59e+10    1.74e+10\n",
      "industry_WEB            7.878e+08    8.5e+09      0.093      0.926   -1.59e+10    1.74e+10\n",
      "jobType_CEO             6.206e+08   6.69e+09      0.093      0.926   -1.25e+10    1.37e+10\n",
      "jobType_CFO             6.206e+08   6.69e+09      0.093      0.926   -1.25e+10    1.37e+10\n",
      "jobType_CTO             6.206e+08   6.69e+09      0.093      0.926   -1.25e+10    1.37e+10\n",
      "jobType_JANITOR         6.206e+08   6.69e+09      0.093      0.926   -1.25e+10    1.37e+10\n",
      "jobType_JUNIOR          6.206e+08   6.69e+09      0.093      0.926   -1.25e+10    1.37e+10\n",
      "jobType_MANAGER         6.206e+08   6.69e+09      0.093      0.926   -1.25e+10    1.37e+10\n",
      "jobType_SENIOR          6.206e+08   6.69e+09      0.093      0.926   -1.25e+10    1.37e+10\n",
      "jobType_VICE_PRESIDENT  6.206e+08   6.69e+09      0.093      0.926   -1.25e+10    1.37e+10\n",
      "degree_BACHELORS        9.955e+08   1.07e+10      0.093      0.926      -2e+10     2.2e+10\n",
      "degree_DOCTORAL         9.955e+08   1.07e+10      0.093      0.926      -2e+10     2.2e+10\n",
      "degree_HIGH_SCHOOL      9.955e+08   1.07e+10      0.093      0.926      -2e+10     2.2e+10\n",
      "degree_MASTERS          9.955e+08   1.07e+10      0.093      0.926      -2e+10     2.2e+10\n",
      "degree_NONE             9.955e+08   1.07e+10      0.093      0.926      -2e+10     2.2e+10\n",
      "==============================================================================\n",
      "Omnibus:                     7199.491   Durbin-Watson:                   2.001\n",
      "Prob(Omnibus):                  0.000   Jarque-Bera (JB):             7162.928\n",
      "Skew:                           0.194   Prob(JB):                         0.00\n",
      "Kurtosis:                       2.853   Cond. No.                     7.27e+15\n",
      "==============================================================================\n",
      "\n",
      "Notes:\n",
      "[1] Standard Errors assume that the covariance matrix of the errors is correctly specified.\n",
      "[2] The smallest eigenvalue is 6.42e-23. This might indicate that there are\n",
      "strong multicollinearity problems or that the design matrix is singular.\n"
     ]
    }
   ],
   "source": [
    "train_X = sm.add_constant(train_X)\n",
    "result = sm.OLS(train_Y.astype(float), train_X.astype(float)).fit()\n",
    "print(result.summary())"
   ]
  },
  {
   "cell_type": "markdown",
   "metadata": {
    "id": "uAvyqEsOseB7"
   },
   "source": [
    "## Linear Regression"
   ]
  },
  {
   "cell_type": "code",
   "execution_count": 60,
   "metadata": {
    "colab": {
     "base_uri": "https://localhost:8080/",
     "height": 758
    },
    "id": "jXbLqt2PseB7",
    "outputId": "87f7c2b8-e1ad-4875-b575-d152a0eb32c0"
   },
   "outputs": [
    {
     "name": "stdout",
     "output_type": "stream",
     "text": [
      "Train_accuracy for Linear Regression: 0.7425418416966341\n",
      "R2 score for Linear Regression: 0.7428294546195111\n",
      "RMSE for Linear Regression : 19.677767076430644\n"
     ]
    }
   ],
   "source": [
    "lr = LinearRegression()\n",
    "lr.fit(X_train,Y_train)\n",
    "y_pred_lr = lr.predict(X_test)\n",
    "print(\"Train_accuracy for Linear Regression:\", lr.score(X_train, Y_train))\n",
    "print(\"R2 score for Linear Regression:\", r2_score(Y_test, y_pred_lr))\n",
    "print(\"RMSE for Linear Regression :\",np.sqrt(mean_squared_error(Y_test, y_pred_lr)))"
   ]
  },
  {
   "cell_type": "markdown",
   "metadata": {
    "id": "nwEqj2g1seB8"
   },
   "source": [
    "## KNeighbors Regressor"
   ]
  },
  {
   "cell_type": "markdown",
   "metadata": {
    "id": "iI2XelYZseB8"
   },
   "source": [
    "KNN regression is a non-parametric method that, in an intuitive manner, approximates the association between independent variables and the continuous outcome by averaging the observations in the same neighbourhood. The size of the neighbourhood needs to be set by the analyst or can be chosen using cross-validation to select the size that minimises the mean-squared error."
   ]
  },
  {
   "cell_type": "code",
   "execution_count": 61,
   "metadata": {
    "colab": {
     "base_uri": "https://localhost:8080/"
    },
    "id": "cO2abE0iseB8",
    "outputId": "5cf8b02d-f5fa-45d4-86fb-1865ab6e0fad"
   },
   "outputs": [
    {
     "name": "stdout",
     "output_type": "stream",
     "text": [
      "RMSE value for k=  1 is: 26.748200874077494\n",
      "RMSE value for k=  2 is: 23.382414332142865\n",
      "RMSE value for k=  3 is: 22.05742505370924\n",
      "RMSE value for k=  4 is: 21.458877679179775\n",
      "RMSE value for k=  5 is: 21.12103060932397\n",
      "RMSE value for k=  6 is: 20.8874570615956\n",
      "RMSE value for k=  7 is: 20.782318991225722\n",
      "RMSE value for k=  8 is: 20.70476686885776\n",
      "RMSE value for k=  9 is: 20.672384334519183\n",
      "RMSE value for k=  10 is: 20.686571912716712\n",
      "RMSE value for k=  11 is: 20.704566699919244\n",
      "RMSE value for k=  12 is: 20.778063627898533\n",
      "RMSE value for k=  13 is: 20.85144285728854\n",
      "RMSE value for k=  14 is: 20.948217716794048\n",
      "RMSE value for k=  15 is: 21.04758024096832\n"
     ]
    }
   ],
   "source": [
    "rmse=[]\n",
    "for K in range(15):\n",
    "    K = K+1\n",
    "    knr = KNeighborsRegressor(n_neighbors = K)\n",
    "    knr.fit(X_train, Y_train)\n",
    "    y_pred_knr=knr.predict(X_test)\n",
    "    error = np.sqrt(mean_squared_error(Y_test,y_pred_knr))\n",
    "    rmse.append(error)\n",
    "    print('RMSE value for k= ' , K , 'is:', error)"
   ]
  },
  {
   "cell_type": "code",
   "execution_count": 62,
   "metadata": {},
   "outputs": [
    {
     "name": "stdout",
     "output_type": "stream",
     "text": [
      "Train_accuracy for KNN Regression: 0.7727016394957571\n",
      "R2 score for KNN Regression: 0.7161749414932841\n",
      "RMSE for KNN Regression : 20.672384334519183\n"
     ]
    }
   ],
   "source": [
    "knr = KNeighborsRegressor(n_neighbors=9)\n",
    "knr.fit(X_train, Y_train)\n",
    "y_pred_knr = knr.predict(X_test)\n",
    "print(\"Train_accuracy for KNN Regression:\", knr.score(X_train, Y_train))\n",
    "print(\"R2 score for KNN Regression:\", r2_score(Y_test, y_pred_knr))\n",
    "print(\"RMSE for KNN Regression :\",np.sqrt(mean_squared_error(Y_test, y_pred_knr)))"
   ]
  },
  {
   "cell_type": "markdown",
   "metadata": {
    "id": "kw_O643WseB9"
   },
   "source": [
    "### DecisionTree Regressor"
   ]
  },
  {
   "cell_type": "markdown",
   "metadata": {
    "id": "VTSZqNroseB9"
   },
   "source": [
    "Decision tree builds regression or classification models in the form of a tree structure. It breaks down a dataset into smaller and smaller subsets while at the same time an associated decision tree is incrementally developed. The final result is a tree with decision nodes and leaf nodes"
   ]
  },
  {
   "cell_type": "code",
   "execution_count": 63,
   "metadata": {
    "execution": {
     "iopub.execute_input": "2021-07-22T09:50:57.565689Z",
     "iopub.status.busy": "2021-07-22T09:50:57.565174Z",
     "iopub.status.idle": "2021-07-22T09:50:57.581328Z",
     "shell.execute_reply": "2021-07-22T09:50:57.580311Z",
     "shell.execute_reply.started": "2021-07-22T09:50:57.565658Z"
    },
    "id": "5TLQOn_uoI0O"
   },
   "outputs": [],
   "source": [
    "## Using Randomsearch cv\n",
    "def random_search(model,X_train,Y_train,param_grid):\n",
    "    from sklearn.model_selection import RandomizedSearchCV\n",
    "    random = RandomizedSearchCV(estimator=model,param_distributions=param_grid,n_iter=20,cv=4,random_state=42,n_jobs=-1,error_score='raise') \n",
    "    random.fit(X_train,Y_train)\n",
    "    print(random.best_params_)"
   ]
  },
  {
   "cell_type": "code",
   "execution_count": 64,
   "metadata": {
    "colab": {
     "base_uri": "https://localhost:8080/"
    },
    "id": "ytccyieVseCD",
    "outputId": "3afbbe16-f894-450a-db80-452072f839b1"
   },
   "outputs": [
    {
     "name": "stdout",
     "output_type": "stream",
     "text": [
      "{'splitter': 'random', 'min_weight_fraction_leaf': 0.1, 'min_samples_leaf': 0.1, 'max_features': None, 'max_depth': 15}\n"
     ]
    }
   ],
   "source": [
    "# create DecisionTreeRegressor parameters dict for tunning\n",
    "DTR_para_grid = {\n",
    "            \"splitter\":[\"best\",\"random\"],\n",
    "            \"max_depth\" : list(range(1,32)),\n",
    "           \"min_samples_leaf\":np.linspace(0.1, 0.9, 9, endpoint=True),\n",
    "           \"min_weight_fraction_leaf\":[0.1,0.2,0.3,0.4,0.5],\n",
    "           \"max_features\":[\"auto\",\"log2\",\"sqrt\",None],\n",
    "           }\n",
    "random_search(DecisionTreeRegressor(),X_train,Y_train,param_grid=DTR_para_grid)"
   ]
  },
  {
   "cell_type": "code",
   "execution_count": 65,
   "metadata": {
    "scrolled": true
   },
   "outputs": [
    {
     "name": "stdout",
     "output_type": "stream",
     "text": [
      "Train_accuracy for Decision Tree Regression: 0.3530483470247464\n",
      "R2 score for Decision Tree Regression: 0.35739105092920964\n",
      "RMSE of Decision Tree Regression : 31.105600312587267\n"
     ]
    }
   ],
   "source": [
    "dtr = DecisionTreeRegressor(splitter= 'random', min_weight_fraction_leaf= 0.1, min_samples_leaf= 0.1, max_features= None, max_depth= 15)\n",
    "dtr.fit(X_train, Y_train)\n",
    "y_pred_dtr = dtr.predict(X_test)\n",
    "print(\"Train_accuracy for Decision Tree Regression:\", dtr.score(X_train, Y_train))\n",
    "print(\"R2 score for Decision Tree Regression:\", r2_score(Y_test, y_pred_dtr))\n",
    "print(\"RMSE of Decision Tree Regression :\",np.sqrt(mean_squared_error(Y_test, y_pred_dtr)))"
   ]
  },
  {
   "cell_type": "markdown",
   "metadata": {},
   "source": [
    "### Important features for  Decision tree Regression"
   ]
  },
  {
   "cell_type": "code",
   "execution_count": 66,
   "metadata": {},
   "outputs": [
    {
     "data": {
      "text/plain": [
       "<function matplotlib.pyplot.show(close=None, block=None)>"
      ]
     },
     "execution_count": 66,
     "metadata": {},
     "output_type": "execute_result"
    },
    {
     "data": {
      "image/png": "[encoded data removed]",
      "text/plain": [
       "<Figure size 720x288 with 1 Axes>"
      ]
     },
     "metadata": {
      "needs_background": "light"
     },
     "output_type": "display_data"
    }
   ],
   "source": [
    "importances = pd.DataFrame(data={\n",
    "    'Attribute': X_train.columns,\n",
    "    'Importance': dtr.feature_importances_\n",
    "})\n",
    "importances = importances.sort_values(by='Importance', ascending=False)\n",
    "\n",
    "plt.figure(figsize=(10,4))\n",
    "plt.bar(x=importances['Attribute'], height=importances['Importance'], color='#087E8B')\n",
    "plt.title('Feature importances obtained from coefficients', size=20)\n",
    "plt.xticks(rotation='vertical')\n",
    "plt.show"
   ]
  },
  {
   "cell_type": "markdown",
   "metadata": {
    "id": "a1eouB_PseB8"
   },
   "source": [
    "### Random Forest Regressor"
   ]
  },
  {
   "cell_type": "markdown",
   "metadata": {
    "id": "w39iBNsaseB8"
   },
   "source": [
    "Random forest is a flexible, easy to use machine learning algorithm that produces, even without hyper-parameter tuning, a great result most of the time. It is also one of the most used algorithms, because of its simplicity and diversity."
   ]
  },
  {
   "cell_type": "code",
   "execution_count": 67,
   "metadata": {
    "scrolled": true
   },
   "outputs": [
    {
     "name": "stdout",
     "output_type": "stream",
     "text": [
      "{'n_estimators': 32, 'min_samples_split': 21, 'min_samples_leaf': 0.2, 'max_features': 'auto', 'max_depth': 7, 'bootstrap': False}\n"
     ]
    }
   ],
   "source": [
    "rf_para_grid = {'n_estimators': [1,2,4,8,16,32,64,100,200],\n",
    "               'max_features': ['auto', 'sqrt'],\n",
    "               'max_depth': list(range(1,32)),\n",
    "               'min_samples_split': list(range(1,32)),\n",
    "               'min_samples_leaf': np.linspace(0.1,0.5,5,endpoint=True),\n",
    "               'bootstrap': [True, False]}\n",
    "\n",
    "random_search(RandomForestRegressor(),X_train,Y_train,param_grid=rf_para_grid)"
   ]
  },
  {
   "cell_type": "code",
   "execution_count": 75,
   "metadata": {},
   "outputs": [
    {
     "name": "stdout",
     "output_type": "stream",
     "text": [
      "Train_accuracy of Random Forest Regression: 0.24147140118016974\n",
      "R2 score of Random Forest Regression: 0.24496767801182895\n",
      "RMSE of Random Forest Regression: 33.71692613016949\n"
     ]
    }
   ],
   "source": [
    "rfr = RandomForestRegressor(n_estimators= 32,min_samples_split= 21,min_samples_leaf= 0.2, max_features='auto', max_depth= 7, bootstrap= False)\n",
    "rfr.fit(X_train,Y_train)\n",
    "y_pred_rfr = rfr.predict(X_test)\n",
    "print(\"Train_accuracy of Random Forest Regression:\", rfr.score(X_train,Y_train))\n",
    "print(\"R2 score of Random Forest Regression:\", r2_score(Y_test, y_pred_rfr))\n",
    "print(\"RMSE of Random Forest Regression:\",np.sqrt(mean_squared_error(Y_test, y_pred_rfr)))"
   ]
  },
  {
   "cell_type": "markdown",
   "metadata": {},
   "source": [
    "### Important features for  Random Forest Regression"
   ]
  },
  {
   "cell_type": "code",
   "execution_count": 76,
   "metadata": {},
   "outputs": [
    {
     "data": {
      "image/png": "[encoded data removed]",
      "text/plain": [
       "<Figure size 720x288 with 1 Axes>"
      ]
     },
     "metadata": {
      "needs_background": "light"
     },
     "output_type": "display_data"
    }
   ],
   "source": [
    "importances = pd.DataFrame(data={\n",
    "    'Attribute': X_train.columns,\n",
    "    'Importance': rfr.feature_importances_\n",
    "})\n",
    "importances = importances.sort_values(by='Importance', ascending=False)\n",
    "\n",
    "plt.figure(figsize=(10,4))\n",
    "plt.bar(x=importances['Attribute'], height=importances['Importance'], color='#087E8B')\n",
    "plt.title('Feature importances obtained from coefficients', size=20)\n",
    "plt.xticks(rotation='vertical')\n",
    "plt.show()"
   ]
  },
  {
   "cell_type": "markdown",
   "metadata": {
    "id": "Dq2sHiagseCE"
   },
   "source": [
    "### Now working with the test dataset provided"
   ]
  },
  {
   "cell_type": "code",
   "execution_count": 70,
   "metadata": {
    "id": "f65ChY0dseCE"
   },
   "outputs": [],
   "source": [
    "# test data \n",
    "test_X = test_data"
   ]
  },
  {
   "cell_type": "code",
   "execution_count": 71,
   "metadata": {
    "id": "HIfspmcMseCF"
   },
   "outputs": [],
   "source": [
    "# passing test data for scaling\n",
    "test_X[['yearsExperience','milesFromMetropolis']] = scaler.transform(test_X[['yearsExperience','milesFromMetropolis']])"
   ]
  },
  {
   "cell_type": "code",
   "execution_count": 72,
   "metadata": {
    "colab": {
     "base_uri": "https://localhost:8080/"
    },
    "id": "Y_V4f8L7seCF",
    "outputId": "e8a65c74-bfe3-4c5e-b289-18d1c5332100"
   },
   "outputs": [],
   "source": [
    "# Perforn the prediction on the test dataset\n",
    "y_predicted = lr.predict(test_X)"
   ]
  },
  {
   "cell_type": "code",
   "execution_count": 73,
   "metadata": {
    "id": "IqpO2zrAseCF"
   },
   "outputs": [],
   "source": [
    "# creating a dataframe of predicted results \n",
    "predictions = pd.DataFrame(y_predicted)"
   ]
  },
  {
   "cell_type": "code",
   "execution_count": 74,
   "metadata": {
    "colab": {
     "base_uri": "https://localhost:8080/",
     "height": 424
    },
    "id": "P4r8hIneseCF",
    "outputId": "4fb95882-1a67-4ba0-dcde-0a2d37c281ca"
   },
   "outputs": [
    {
     "data": {
      "text/html": [
       "<div>\n",
       "<style scoped>\n",
       "    .dataframe tbody tr th:only-of-type {\n",
       "        vertical-align: middle;\n",
       "    }\n",
       "\n",
       "    .dataframe tbody tr th {\n",
       "        vertical-align: top;\n",
       "    }\n",
       "\n",
       "    .dataframe thead th {\n",
       "        text-align: right;\n",
       "    }\n",
       "</style>\n",
       "<table border=\"1\" class=\"dataframe\">\n",
       "  <thead>\n",
       "    <tr style=\"text-align: right;\">\n",
       "      <th></th>\n",
       "      <th>0</th>\n",
       "    </tr>\n",
       "  </thead>\n",
       "  <tbody>\n",
       "    <tr>\n",
       "      <th>0</th>\n",
       "      <td>115.664062</td>\n",
       "    </tr>\n",
       "    <tr>\n",
       "      <th>1</th>\n",
       "      <td>92.742188</td>\n",
       "    </tr>\n",
       "    <tr>\n",
       "      <th>2</th>\n",
       "      <td>166.898438</td>\n",
       "    </tr>\n",
       "    <tr>\n",
       "      <th>3</th>\n",
       "      <td>105.320312</td>\n",
       "    </tr>\n",
       "    <tr>\n",
       "      <th>4</th>\n",
       "      <td>120.039062</td>\n",
       "    </tr>\n",
       "    <tr>\n",
       "      <th>...</th>\n",
       "      <td>...</td>\n",
       "    </tr>\n",
       "    <tr>\n",
       "      <th>999995</th>\n",
       "      <td>167.945312</td>\n",
       "    </tr>\n",
       "    <tr>\n",
       "      <th>999996</th>\n",
       "      <td>110.070312</td>\n",
       "    </tr>\n",
       "    <tr>\n",
       "      <th>999997</th>\n",
       "      <td>44.992188</td>\n",
       "    </tr>\n",
       "    <tr>\n",
       "      <th>999998</th>\n",
       "      <td>164.789062</td>\n",
       "    </tr>\n",
       "    <tr>\n",
       "      <th>999999</th>\n",
       "      <td>112.164062</td>\n",
       "    </tr>\n",
       "  </tbody>\n",
       "</table>\n",
       "<p>1000000 rows × 1 columns</p>\n",
       "</div>"
      ],
      "text/plain": [
       "                 0\n",
       "0       115.664062\n",
       "1        92.742188\n",
       "2       166.898438\n",
       "3       105.320312\n",
       "4       120.039062\n",
       "...            ...\n",
       "999995  167.945312\n",
       "999996  110.070312\n",
       "999997   44.992188\n",
       "999998  164.789062\n",
       "999999  112.164062\n",
       "\n",
       "[1000000 rows x 1 columns]"
      ]
     },
     "execution_count": 74,
     "metadata": {},
     "output_type": "execute_result"
    }
   ],
   "source": [
    "# predicted values in dataframe\n",
    "predictions"
   ]
  },
  {
   "cell_type": "markdown",
   "metadata": {
    "id": "-EhEeUOWilkY"
   },
   "source": [
    "### Conclusion\n",
    "According to this model, the predicted value I got,\n",
    "matches with the actual target values. Does the model is performing well.\n",
    "Even though we use only 100000 samples, the model may perform much better when trained on complete dataset.\n",
    "I have performed EDA, preprocessing, buid different models, visualized feature importance, did hyper parameter tunning of each model and did prediction.\n",
    "\n",
    "using Linear regression and KNN regression it gives highest accuracy."
   ]
  },
  {
   "cell_type": "code",
   "execution_count": null,
   "metadata": {},
   "outputs": [],
   "source": []
  },
  {
   "cell_type": "code",
   "execution_count": null,
   "metadata": {},
   "outputs": [],
   "source": []
  },
  {
   "cell_type": "code",
   "execution_count": null,
   "metadata": {},
   "outputs": [],
   "source": []
  }
 ],
 "metadata": {
  "colab": {
   "collapsed_sections": [
    "aOel7bcF3mVz",
    "f5ARlvYSoIz9",
    "f7HPmp72oIz_",
    "ZXkVodrHeQ8C"
   ],
   "name": "employee_salaries_withoutcode.ipynb",
   "provenance": []
  },
  "kernelspec": {
   "display_name": "Python 3 (ipykernel)",
   "language": "python",
   "name": "python3"
  },
  "language_info": {
   "codemirror_mode": {
    "name": "ipython",
    "version": 3
   },
   "file_extension": ".py",
   "mimetype": "text/x-python",
   "name": "python",
   "nbconvert_exporter": "python",
   "pygments_lexer": "ipython3",
   "version": "3.9.7"
  }
 },
 "nbformat": 4,
 "nbformat_minor": 1
}
